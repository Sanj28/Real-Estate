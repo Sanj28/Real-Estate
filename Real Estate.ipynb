{
 "cells": [
  {
   "cell_type": "code",
   "execution_count": 1,
   "id": "7bb570bf",
   "metadata": {},
   "outputs": [],
   "source": [
    "# 1. Import data"
   ]
  },
  {
   "cell_type": "code",
   "execution_count": 2,
   "id": "c386f3b3",
   "metadata": {},
   "outputs": [],
   "source": [
    "import pandas as pd\n",
    "import numpy as np\n",
    "import seaborn as sns\n",
    "import matplotlib.pyplot as plt"
   ]
  },
  {
   "cell_type": "code",
   "execution_count": 3,
   "id": "7b488998",
   "metadata": {},
   "outputs": [],
   "source": [
    "df_train=pd.read_csv('train.csv')\n",
    "df_test=pd.read_csv('test.csv')"
   ]
  },
  {
   "cell_type": "code",
   "execution_count": 4,
   "id": "693439e6",
   "metadata": {},
   "outputs": [
    {
     "data": {
      "text/html": [
       "<div>\n",
       "<style scoped>\n",
       "    .dataframe tbody tr th:only-of-type {\n",
       "        vertical-align: middle;\n",
       "    }\n",
       "\n",
       "    .dataframe tbody tr th {\n",
       "        vertical-align: top;\n",
       "    }\n",
       "\n",
       "    .dataframe thead th {\n",
       "        text-align: right;\n",
       "    }\n",
       "</style>\n",
       "<table border=\"1\" class=\"dataframe\">\n",
       "  <thead>\n",
       "    <tr style=\"text-align: right;\">\n",
       "      <th></th>\n",
       "      <th>UID</th>\n",
       "      <th>COUNTYID</th>\n",
       "      <th>STATEID</th>\n",
       "      <th>state</th>\n",
       "      <th>state_ab</th>\n",
       "      <th>city</th>\n",
       "      <th>place</th>\n",
       "      <th>type</th>\n",
       "      <th>primary</th>\n",
       "      <th>zip_code</th>\n",
       "      <th>...</th>\n",
       "      <th>pct_own</th>\n",
       "      <th>married</th>\n",
       "      <th>married_snp</th>\n",
       "      <th>separated</th>\n",
       "      <th>divorced</th>\n",
       "      <th>bad_debt</th>\n",
       "      <th>good_debt</th>\n",
       "      <th>pop_density</th>\n",
       "      <th>median_age</th>\n",
       "      <th>pop_bin</th>\n",
       "    </tr>\n",
       "  </thead>\n",
       "  <tbody>\n",
       "    <tr>\n",
       "      <th>0</th>\n",
       "      <td>267822</td>\n",
       "      <td>53</td>\n",
       "      <td>36</td>\n",
       "      <td>New York</td>\n",
       "      <td>NY</td>\n",
       "      <td>Hamilton</td>\n",
       "      <td>Hamilton</td>\n",
       "      <td>1</td>\n",
       "      <td>tract</td>\n",
       "      <td>13346</td>\n",
       "      <td>...</td>\n",
       "      <td>0.79046</td>\n",
       "      <td>0.57851</td>\n",
       "      <td>0.01882</td>\n",
       "      <td>0.01240</td>\n",
       "      <td>0.0877</td>\n",
       "      <td>0.09408</td>\n",
       "      <td>0.43555</td>\n",
       "      <td>0.000026</td>\n",
       "      <td>44.667430</td>\n",
       "      <td>very_low</td>\n",
       "    </tr>\n",
       "    <tr>\n",
       "      <th>1</th>\n",
       "      <td>246444</td>\n",
       "      <td>141</td>\n",
       "      <td>18</td>\n",
       "      <td>Indiana</td>\n",
       "      <td>IN</td>\n",
       "      <td>South Bend</td>\n",
       "      <td>Roseland</td>\n",
       "      <td>1</td>\n",
       "      <td>tract</td>\n",
       "      <td>46616</td>\n",
       "      <td>...</td>\n",
       "      <td>0.52483</td>\n",
       "      <td>0.34886</td>\n",
       "      <td>0.01426</td>\n",
       "      <td>0.01426</td>\n",
       "      <td>0.0903</td>\n",
       "      <td>0.04274</td>\n",
       "      <td>0.56581</td>\n",
       "      <td>0.001687</td>\n",
       "      <td>34.722748</td>\n",
       "      <td>very_low</td>\n",
       "    </tr>\n",
       "  </tbody>\n",
       "</table>\n",
       "<p>2 rows × 83 columns</p>\n",
       "</div>"
      ],
      "text/plain": [
       "      UID  COUNTYID  STATEID     state state_ab        city     place  type  \\\n",
       "0  267822        53       36  New York       NY    Hamilton  Hamilton     1   \n",
       "1  246444       141       18   Indiana       IN  South Bend  Roseland     1   \n",
       "\n",
       "  primary  zip_code  ...  pct_own  married  married_snp  separated  divorced  \\\n",
       "0   tract     13346  ...  0.79046  0.57851      0.01882    0.01240    0.0877   \n",
       "1   tract     46616  ...  0.52483  0.34886      0.01426    0.01426    0.0903   \n",
       "\n",
       "   bad_debt  good_debt  pop_density  median_age   pop_bin  \n",
       "0   0.09408    0.43555     0.000026   44.667430  very_low  \n",
       "1   0.04274    0.56581     0.001687   34.722748  very_low  \n",
       "\n",
       "[2 rows x 83 columns]"
      ]
     },
     "execution_count": 4,
     "metadata": {},
     "output_type": "execute_result"
    }
   ],
   "source": [
    "df_train.head(2)"
   ]
  },
  {
   "cell_type": "code",
   "execution_count": 5,
   "id": "684fed07",
   "metadata": {},
   "outputs": [
    {
     "data": {
      "text/html": [
       "<div>\n",
       "<style scoped>\n",
       "    .dataframe tbody tr th:only-of-type {\n",
       "        vertical-align: middle;\n",
       "    }\n",
       "\n",
       "    .dataframe tbody tr th {\n",
       "        vertical-align: top;\n",
       "    }\n",
       "\n",
       "    .dataframe thead th {\n",
       "        text-align: right;\n",
       "    }\n",
       "</style>\n",
       "<table border=\"1\" class=\"dataframe\">\n",
       "  <thead>\n",
       "    <tr style=\"text-align: right;\">\n",
       "      <th></th>\n",
       "      <th>UID</th>\n",
       "      <th>BLOCKID</th>\n",
       "      <th>SUMLEVEL</th>\n",
       "      <th>COUNTYID</th>\n",
       "      <th>STATEID</th>\n",
       "      <th>state</th>\n",
       "      <th>state_ab</th>\n",
       "      <th>city</th>\n",
       "      <th>place</th>\n",
       "      <th>type</th>\n",
       "      <th>...</th>\n",
       "      <th>female_age_mean</th>\n",
       "      <th>female_age_median</th>\n",
       "      <th>female_age_stdev</th>\n",
       "      <th>female_age_sample_weight</th>\n",
       "      <th>female_age_samples</th>\n",
       "      <th>pct_own</th>\n",
       "      <th>married</th>\n",
       "      <th>married_snp</th>\n",
       "      <th>separated</th>\n",
       "      <th>divorced</th>\n",
       "    </tr>\n",
       "  </thead>\n",
       "  <tbody>\n",
       "    <tr>\n",
       "      <th>0</th>\n",
       "      <td>255504</td>\n",
       "      <td>NaN</td>\n",
       "      <td>140</td>\n",
       "      <td>163</td>\n",
       "      <td>26</td>\n",
       "      <td>Michigan</td>\n",
       "      <td>MI</td>\n",
       "      <td>Detroit</td>\n",
       "      <td>Dearborn Heights City</td>\n",
       "      <td>CDP</td>\n",
       "      <td>...</td>\n",
       "      <td>34.78682</td>\n",
       "      <td>33.75000</td>\n",
       "      <td>21.58531</td>\n",
       "      <td>416.48097</td>\n",
       "      <td>1938.0</td>\n",
       "      <td>0.70252</td>\n",
       "      <td>0.28217</td>\n",
       "      <td>0.05910</td>\n",
       "      <td>0.03813</td>\n",
       "      <td>0.14299</td>\n",
       "    </tr>\n",
       "    <tr>\n",
       "      <th>1</th>\n",
       "      <td>252676</td>\n",
       "      <td>NaN</td>\n",
       "      <td>140</td>\n",
       "      <td>1</td>\n",
       "      <td>23</td>\n",
       "      <td>Maine</td>\n",
       "      <td>ME</td>\n",
       "      <td>Auburn</td>\n",
       "      <td>Auburn City</td>\n",
       "      <td>City</td>\n",
       "      <td>...</td>\n",
       "      <td>44.23451</td>\n",
       "      <td>46.66667</td>\n",
       "      <td>22.37036</td>\n",
       "      <td>532.03505</td>\n",
       "      <td>1950.0</td>\n",
       "      <td>0.85128</td>\n",
       "      <td>0.64221</td>\n",
       "      <td>0.02338</td>\n",
       "      <td>0.00000</td>\n",
       "      <td>0.13377</td>\n",
       "    </tr>\n",
       "  </tbody>\n",
       "</table>\n",
       "<p>2 rows × 80 columns</p>\n",
       "</div>"
      ],
      "text/plain": [
       "      UID  BLOCKID  SUMLEVEL  COUNTYID  STATEID     state state_ab     city  \\\n",
       "0  255504      NaN       140       163       26  Michigan       MI  Detroit   \n",
       "1  252676      NaN       140         1       23     Maine       ME   Auburn   \n",
       "\n",
       "                   place  type  ... female_age_mean  female_age_median  \\\n",
       "0  Dearborn Heights City   CDP  ...        34.78682           33.75000   \n",
       "1            Auburn City  City  ...        44.23451           46.66667   \n",
       "\n",
       "   female_age_stdev  female_age_sample_weight  female_age_samples  pct_own  \\\n",
       "0          21.58531                 416.48097              1938.0  0.70252   \n",
       "1          22.37036                 532.03505              1950.0  0.85128   \n",
       "\n",
       "   married  married_snp  separated  divorced  \n",
       "0  0.28217      0.05910    0.03813   0.14299  \n",
       "1  0.64221      0.02338    0.00000   0.13377  \n",
       "\n",
       "[2 rows x 80 columns]"
      ]
     },
     "execution_count": 5,
     "metadata": {},
     "output_type": "execute_result"
    }
   ],
   "source": [
    "df_test.head(2)"
   ]
  },
  {
   "cell_type": "code",
   "execution_count": 6,
   "id": "82ca9ade",
   "metadata": {},
   "outputs": [
    {
     "data": {
      "text/plain": [
       "Index(['UID', 'COUNTYID', 'STATEID', 'state', 'state_ab', 'city', 'place',\n",
       "       'type', 'primary', 'zip_code', 'area_code', 'lat', 'lng', 'ALand',\n",
       "       'AWater', 'pop', 'male_pop', 'female_pop', 'rent_mean', 'rent_median',\n",
       "       'rent_stdev', 'rent_sample_weight', 'rent_samples', 'rent_gt_10',\n",
       "       'rent_gt_15', 'rent_gt_20', 'rent_gt_25', 'rent_gt_30', 'rent_gt_35',\n",
       "       'rent_gt_40', 'rent_gt_50', 'universe_samples', 'used_samples',\n",
       "       'hi_mean', 'hi_median', 'hi_stdev', 'hi_sample_weight', 'hi_samples',\n",
       "       'family_mean', 'family_median', 'family_stdev', 'family_sample_weight',\n",
       "       'family_samples', 'hc_mortgage_mean', 'hc_mortgage_median',\n",
       "       'hc_mortgage_stdev', 'hc_mortgage_sample_weight', 'hc_mortgage_samples',\n",
       "       'hc_mean', 'hc_median', 'hc_stdev', 'hc_samples', 'hc_sample_weight',\n",
       "       'home_equity_second_mortgage', 'second_mortgage', 'home_equity', 'debt',\n",
       "       'second_mortgage_cdf', 'home_equity_cdf', 'debt_cdf', 'hs_degree',\n",
       "       'hs_degree_male', 'hs_degree_female', 'male_age_mean',\n",
       "       'male_age_median', 'male_age_stdev', 'male_age_sample_weight',\n",
       "       'male_age_samples', 'female_age_mean', 'female_age_median',\n",
       "       'female_age_stdev', 'female_age_sample_weight', 'female_age_samples',\n",
       "       'pct_own', 'married', 'married_snp', 'separated', 'divorced',\n",
       "       'bad_debt', 'good_debt', 'pop_density', 'median_age', 'pop_bin'],\n",
       "      dtype='object')"
      ]
     },
     "execution_count": 6,
     "metadata": {},
     "output_type": "execute_result"
    }
   ],
   "source": [
    "df_train.columns"
   ]
  },
  {
   "cell_type": "code",
   "execution_count": 7,
   "id": "da998e2a",
   "metadata": {},
   "outputs": [
    {
     "data": {
      "text/plain": [
       "Index(['UID', 'BLOCKID', 'SUMLEVEL', 'COUNTYID', 'STATEID', 'state',\n",
       "       'state_ab', 'city', 'place', 'type', 'primary', 'zip_code', 'area_code',\n",
       "       'lat', 'lng', 'ALand', 'AWater', 'pop', 'male_pop', 'female_pop',\n",
       "       'rent_mean', 'rent_median', 'rent_stdev', 'rent_sample_weight',\n",
       "       'rent_samples', 'rent_gt_10', 'rent_gt_15', 'rent_gt_20', 'rent_gt_25',\n",
       "       'rent_gt_30', 'rent_gt_35', 'rent_gt_40', 'rent_gt_50',\n",
       "       'universe_samples', 'used_samples', 'hi_mean', 'hi_median', 'hi_stdev',\n",
       "       'hi_sample_weight', 'hi_samples', 'family_mean', 'family_median',\n",
       "       'family_stdev', 'family_sample_weight', 'family_samples',\n",
       "       'hc_mortgage_mean', 'hc_mortgage_median', 'hc_mortgage_stdev',\n",
       "       'hc_mortgage_sample_weight', 'hc_mortgage_samples', 'hc_mean',\n",
       "       'hc_median', 'hc_stdev', 'hc_samples', 'hc_sample_weight',\n",
       "       'home_equity_second_mortgage', 'second_mortgage', 'home_equity', 'debt',\n",
       "       'second_mortgage_cdf', 'home_equity_cdf', 'debt_cdf', 'hs_degree',\n",
       "       'hs_degree_male', 'hs_degree_female', 'male_age_mean',\n",
       "       'male_age_median', 'male_age_stdev', 'male_age_sample_weight',\n",
       "       'male_age_samples', 'female_age_mean', 'female_age_median',\n",
       "       'female_age_stdev', 'female_age_sample_weight', 'female_age_samples',\n",
       "       'pct_own', 'married', 'married_snp', 'separated', 'divorced'],\n",
       "      dtype='object')"
      ]
     },
     "execution_count": 7,
     "metadata": {},
     "output_type": "execute_result"
    }
   ],
   "source": [
    "df_test.columns"
   ]
  },
  {
   "cell_type": "code",
   "execution_count": 8,
   "id": "8123b9f9",
   "metadata": {},
   "outputs": [
    {
     "data": {
      "text/plain": [
       "2242577"
      ]
     },
     "execution_count": 8,
     "metadata": {},
     "output_type": "execute_result"
    }
   ],
   "source": [
    "df_train.size"
   ]
  },
  {
   "cell_type": "code",
   "execution_count": 9,
   "id": "67cba516",
   "metadata": {},
   "outputs": [
    {
     "data": {
      "text/plain": [
       "936720"
      ]
     },
     "execution_count": 9,
     "metadata": {},
     "output_type": "execute_result"
    }
   ],
   "source": [
    "df_test.size"
   ]
  },
  {
   "cell_type": "code",
   "execution_count": 10,
   "id": "bdc8dadd",
   "metadata": {},
   "outputs": [
    {
     "data": {
      "text/html": [
       "<div>\n",
       "<style scoped>\n",
       "    .dataframe tbody tr th:only-of-type {\n",
       "        vertical-align: middle;\n",
       "    }\n",
       "\n",
       "    .dataframe tbody tr th {\n",
       "        vertical-align: top;\n",
       "    }\n",
       "\n",
       "    .dataframe thead th {\n",
       "        text-align: right;\n",
       "    }\n",
       "</style>\n",
       "<table border=\"1\" class=\"dataframe\">\n",
       "  <thead>\n",
       "    <tr style=\"text-align: right;\">\n",
       "      <th></th>\n",
       "      <th>UID</th>\n",
       "      <th>COUNTYID</th>\n",
       "      <th>STATEID</th>\n",
       "      <th>type</th>\n",
       "      <th>zip_code</th>\n",
       "      <th>area_code</th>\n",
       "      <th>lat</th>\n",
       "      <th>lng</th>\n",
       "      <th>ALand</th>\n",
       "      <th>AWater</th>\n",
       "      <th>...</th>\n",
       "      <th>female_age_samples</th>\n",
       "      <th>pct_own</th>\n",
       "      <th>married</th>\n",
       "      <th>married_snp</th>\n",
       "      <th>separated</th>\n",
       "      <th>divorced</th>\n",
       "      <th>bad_debt</th>\n",
       "      <th>good_debt</th>\n",
       "      <th>pop_density</th>\n",
       "      <th>median_age</th>\n",
       "    </tr>\n",
       "  </thead>\n",
       "  <tbody>\n",
       "    <tr>\n",
       "      <th>count</th>\n",
       "      <td>27019.000000</td>\n",
       "      <td>27019.000000</td>\n",
       "      <td>27019.000000</td>\n",
       "      <td>27019.000000</td>\n",
       "      <td>27019.000000</td>\n",
       "      <td>27019.000000</td>\n",
       "      <td>27019.000000</td>\n",
       "      <td>27019.000000</td>\n",
       "      <td>2.701900e+04</td>\n",
       "      <td>2.701900e+04</td>\n",
       "      <td>...</td>\n",
       "      <td>27019.000000</td>\n",
       "      <td>27019.000000</td>\n",
       "      <td>27019.000000</td>\n",
       "      <td>27019.000000</td>\n",
       "      <td>27019.000000</td>\n",
       "      <td>27019.000000</td>\n",
       "      <td>27019.000000</td>\n",
       "      <td>27019.000000</td>\n",
       "      <td>2.701900e+04</td>\n",
       "      <td>27019.000000</td>\n",
       "    </tr>\n",
       "    <tr>\n",
       "      <th>mean</th>\n",
       "      <td>257310.991673</td>\n",
       "      <td>85.592139</td>\n",
       "      <td>28.246567</td>\n",
       "      <td>2.379770</td>\n",
       "      <td>50132.614568</td>\n",
       "      <td>596.381509</td>\n",
       "      <td>37.530584</td>\n",
       "      <td>-91.306019</td>\n",
       "      <td>1.302186e+08</td>\n",
       "      <td>6.495841e+06</td>\n",
       "      <td>...</td>\n",
       "      <td>2211.116807</td>\n",
       "      <td>0.642387</td>\n",
       "      <td>0.509317</td>\n",
       "      <td>0.047341</td>\n",
       "      <td>0.019072</td>\n",
       "      <td>0.100384</td>\n",
       "      <td>0.105107</td>\n",
       "      <td>0.524665</td>\n",
       "      <td>2.054426e-03</td>\n",
       "      <td>39.251020</td>\n",
       "    </tr>\n",
       "    <tr>\n",
       "      <th>std</th>\n",
       "      <td>21340.758358</td>\n",
       "      <td>98.176550</td>\n",
       "      <td>16.371166</td>\n",
       "      <td>1.693632</td>\n",
       "      <td>29539.429679</td>\n",
       "      <td>232.438332</td>\n",
       "      <td>5.576366</td>\n",
       "      <td>16.329382</td>\n",
       "      <td>1.282239e+09</td>\n",
       "      <td>2.198107e+08</td>\n",
       "      <td>...</td>\n",
       "      <td>1083.058048</td>\n",
       "      <td>0.223927</td>\n",
       "      <td>0.135681</td>\n",
       "      <td>0.037151</td>\n",
       "      <td>0.020741</td>\n",
       "      <td>0.048800</td>\n",
       "      <td>0.070607</td>\n",
       "      <td>0.129965</td>\n",
       "      <td>4.518061e-03</td>\n",
       "      <td>7.580643</td>\n",
       "    </tr>\n",
       "    <tr>\n",
       "      <th>min</th>\n",
       "      <td>220342.000000</td>\n",
       "      <td>1.000000</td>\n",
       "      <td>1.000000</td>\n",
       "      <td>1.000000</td>\n",
       "      <td>602.000000</td>\n",
       "      <td>201.000000</td>\n",
       "      <td>17.929085</td>\n",
       "      <td>-165.453872</td>\n",
       "      <td>4.113400e+04</td>\n",
       "      <td>0.000000e+00</td>\n",
       "      <td>...</td>\n",
       "      <td>2.000000</td>\n",
       "      <td>0.000000</td>\n",
       "      <td>0.000000</td>\n",
       "      <td>0.000000</td>\n",
       "      <td>0.000000</td>\n",
       "      <td>0.000000</td>\n",
       "      <td>0.000000</td>\n",
       "      <td>0.000000</td>\n",
       "      <td>4.042638e-09</td>\n",
       "      <td>13.378362</td>\n",
       "    </tr>\n",
       "    <tr>\n",
       "      <th>25%</th>\n",
       "      <td>238819.500000</td>\n",
       "      <td>29.000000</td>\n",
       "      <td>13.000000</td>\n",
       "      <td>1.000000</td>\n",
       "      <td>27023.000000</td>\n",
       "      <td>405.000000</td>\n",
       "      <td>33.910638</td>\n",
       "      <td>-97.820012</td>\n",
       "      <td>1.806570e+06</td>\n",
       "      <td>0.000000e+00</td>\n",
       "      <td>...</td>\n",
       "      <td>1474.000000</td>\n",
       "      <td>0.505685</td>\n",
       "      <td>0.426585</td>\n",
       "      <td>0.020830</td>\n",
       "      <td>0.004560</td>\n",
       "      <td>0.066045</td>\n",
       "      <td>0.052565</td>\n",
       "      <td>0.448685</td>\n",
       "      <td>1.267407e-04</td>\n",
       "      <td>34.167624</td>\n",
       "    </tr>\n",
       "    <tr>\n",
       "      <th>50%</th>\n",
       "      <td>257187.000000</td>\n",
       "      <td>63.000000</td>\n",
       "      <td>28.000000</td>\n",
       "      <td>1.000000</td>\n",
       "      <td>47904.000000</td>\n",
       "      <td>614.000000</td>\n",
       "      <td>38.767808</td>\n",
       "      <td>-86.591218</td>\n",
       "      <td>4.879552e+06</td>\n",
       "      <td>2.767400e+04</td>\n",
       "      <td>...</td>\n",
       "      <td>2068.000000</td>\n",
       "      <td>0.691585</td>\n",
       "      <td>0.527230</td>\n",
       "      <td>0.038770</td>\n",
       "      <td>0.013460</td>\n",
       "      <td>0.095330</td>\n",
       "      <td>0.098530</td>\n",
       "      <td>0.528920</td>\n",
       "      <td>8.628578e-04</td>\n",
       "      <td>39.214730</td>\n",
       "    </tr>\n",
       "    <tr>\n",
       "      <th>75%</th>\n",
       "      <td>275779.000000</td>\n",
       "      <td>109.000000</td>\n",
       "      <td>42.000000</td>\n",
       "      <td>4.000000</td>\n",
       "      <td>77095.000000</td>\n",
       "      <td>801.000000</td>\n",
       "      <td>41.397687</td>\n",
       "      <td>-79.811109</td>\n",
       "      <td>3.376139e+07</td>\n",
       "      <td>5.239845e+05</td>\n",
       "      <td>...</td>\n",
       "      <td>2773.000000</td>\n",
       "      <td>0.817390</td>\n",
       "      <td>0.606035</td>\n",
       "      <td>0.064885</td>\n",
       "      <td>0.027450</td>\n",
       "      <td>0.129030</td>\n",
       "      <td>0.149040</td>\n",
       "      <td>0.604870</td>\n",
       "      <td>2.066173e-03</td>\n",
       "      <td>43.889041</td>\n",
       "    </tr>\n",
       "    <tr>\n",
       "      <th>max</th>\n",
       "      <td>294334.000000</td>\n",
       "      <td>840.000000</td>\n",
       "      <td>72.000000</td>\n",
       "      <td>6.000000</td>\n",
       "      <td>99925.000000</td>\n",
       "      <td>989.000000</td>\n",
       "      <td>67.074017</td>\n",
       "      <td>-65.379332</td>\n",
       "      <td>1.039510e+11</td>\n",
       "      <td>2.453228e+10</td>\n",
       "      <td>...</td>\n",
       "      <td>27250.000000</td>\n",
       "      <td>1.000000</td>\n",
       "      <td>1.000000</td>\n",
       "      <td>0.714290</td>\n",
       "      <td>0.714290</td>\n",
       "      <td>1.000000</td>\n",
       "      <td>1.000000</td>\n",
       "      <td>1.000000</td>\n",
       "      <td>7.653605e-02</td>\n",
       "      <td>80.166670</td>\n",
       "    </tr>\n",
       "  </tbody>\n",
       "</table>\n",
       "<p>8 rows × 77 columns</p>\n",
       "</div>"
      ],
      "text/plain": [
       "                 UID      COUNTYID       STATEID          type      zip_code  \\\n",
       "count   27019.000000  27019.000000  27019.000000  27019.000000  27019.000000   \n",
       "mean   257310.991673     85.592139     28.246567      2.379770  50132.614568   \n",
       "std     21340.758358     98.176550     16.371166      1.693632  29539.429679   \n",
       "min    220342.000000      1.000000      1.000000      1.000000    602.000000   \n",
       "25%    238819.500000     29.000000     13.000000      1.000000  27023.000000   \n",
       "50%    257187.000000     63.000000     28.000000      1.000000  47904.000000   \n",
       "75%    275779.000000    109.000000     42.000000      4.000000  77095.000000   \n",
       "max    294334.000000    840.000000     72.000000      6.000000  99925.000000   \n",
       "\n",
       "          area_code           lat           lng         ALand        AWater  \\\n",
       "count  27019.000000  27019.000000  27019.000000  2.701900e+04  2.701900e+04   \n",
       "mean     596.381509     37.530584    -91.306019  1.302186e+08  6.495841e+06   \n",
       "std      232.438332      5.576366     16.329382  1.282239e+09  2.198107e+08   \n",
       "min      201.000000     17.929085   -165.453872  4.113400e+04  0.000000e+00   \n",
       "25%      405.000000     33.910638    -97.820012  1.806570e+06  0.000000e+00   \n",
       "50%      614.000000     38.767808    -86.591218  4.879552e+06  2.767400e+04   \n",
       "75%      801.000000     41.397687    -79.811109  3.376139e+07  5.239845e+05   \n",
       "max      989.000000     67.074017    -65.379332  1.039510e+11  2.453228e+10   \n",
       "\n",
       "       ...  female_age_samples       pct_own       married   married_snp  \\\n",
       "count  ...        27019.000000  27019.000000  27019.000000  27019.000000   \n",
       "mean   ...         2211.116807      0.642387      0.509317      0.047341   \n",
       "std    ...         1083.058048      0.223927      0.135681      0.037151   \n",
       "min    ...            2.000000      0.000000      0.000000      0.000000   \n",
       "25%    ...         1474.000000      0.505685      0.426585      0.020830   \n",
       "50%    ...         2068.000000      0.691585      0.527230      0.038770   \n",
       "75%    ...         2773.000000      0.817390      0.606035      0.064885   \n",
       "max    ...        27250.000000      1.000000      1.000000      0.714290   \n",
       "\n",
       "          separated      divorced      bad_debt     good_debt   pop_density  \\\n",
       "count  27019.000000  27019.000000  27019.000000  27019.000000  2.701900e+04   \n",
       "mean       0.019072      0.100384      0.105107      0.524665  2.054426e-03   \n",
       "std        0.020741      0.048800      0.070607      0.129965  4.518061e-03   \n",
       "min        0.000000      0.000000      0.000000      0.000000  4.042638e-09   \n",
       "25%        0.004560      0.066045      0.052565      0.448685  1.267407e-04   \n",
       "50%        0.013460      0.095330      0.098530      0.528920  8.628578e-04   \n",
       "75%        0.027450      0.129030      0.149040      0.604870  2.066173e-03   \n",
       "max        0.714290      1.000000      1.000000      1.000000  7.653605e-02   \n",
       "\n",
       "         median_age  \n",
       "count  27019.000000  \n",
       "mean      39.251020  \n",
       "std        7.580643  \n",
       "min       13.378362  \n",
       "25%       34.167624  \n",
       "50%       39.214730  \n",
       "75%       43.889041  \n",
       "max       80.166670  \n",
       "\n",
       "[8 rows x 77 columns]"
      ]
     },
     "execution_count": 10,
     "metadata": {},
     "output_type": "execute_result"
    }
   ],
   "source": [
    "df_train.describe()"
   ]
  },
  {
   "cell_type": "code",
   "execution_count": 11,
   "id": "bff9e328",
   "metadata": {},
   "outputs": [
    {
     "data": {
      "text/html": [
       "<div>\n",
       "<style scoped>\n",
       "    .dataframe tbody tr th:only-of-type {\n",
       "        vertical-align: middle;\n",
       "    }\n",
       "\n",
       "    .dataframe tbody tr th {\n",
       "        vertical-align: top;\n",
       "    }\n",
       "\n",
       "    .dataframe thead th {\n",
       "        text-align: right;\n",
       "    }\n",
       "</style>\n",
       "<table border=\"1\" class=\"dataframe\">\n",
       "  <thead>\n",
       "    <tr style=\"text-align: right;\">\n",
       "      <th></th>\n",
       "      <th>UID</th>\n",
       "      <th>BLOCKID</th>\n",
       "      <th>SUMLEVEL</th>\n",
       "      <th>COUNTYID</th>\n",
       "      <th>STATEID</th>\n",
       "      <th>zip_code</th>\n",
       "      <th>area_code</th>\n",
       "      <th>lat</th>\n",
       "      <th>lng</th>\n",
       "      <th>ALand</th>\n",
       "      <th>...</th>\n",
       "      <th>female_age_mean</th>\n",
       "      <th>female_age_median</th>\n",
       "      <th>female_age_stdev</th>\n",
       "      <th>female_age_sample_weight</th>\n",
       "      <th>female_age_samples</th>\n",
       "      <th>pct_own</th>\n",
       "      <th>married</th>\n",
       "      <th>married_snp</th>\n",
       "      <th>separated</th>\n",
       "      <th>divorced</th>\n",
       "    </tr>\n",
       "  </thead>\n",
       "  <tbody>\n",
       "    <tr>\n",
       "      <th>count</th>\n",
       "      <td>11709.000000</td>\n",
       "      <td>0.0</td>\n",
       "      <td>11709.0</td>\n",
       "      <td>11709.000000</td>\n",
       "      <td>11709.000000</td>\n",
       "      <td>11709.000000</td>\n",
       "      <td>11709.000000</td>\n",
       "      <td>11709.000000</td>\n",
       "      <td>11709.000000</td>\n",
       "      <td>1.170900e+04</td>\n",
       "      <td>...</td>\n",
       "      <td>11613.000000</td>\n",
       "      <td>11613.000000</td>\n",
       "      <td>11613.000000</td>\n",
       "      <td>11613.000000</td>\n",
       "      <td>11613.000000</td>\n",
       "      <td>11587.000000</td>\n",
       "      <td>11625.000000</td>\n",
       "      <td>11625.000000</td>\n",
       "      <td>11625.000000</td>\n",
       "      <td>11625.000000</td>\n",
       "    </tr>\n",
       "    <tr>\n",
       "      <th>mean</th>\n",
       "      <td>257525.004783</td>\n",
       "      <td>NaN</td>\n",
       "      <td>140.0</td>\n",
       "      <td>85.710650</td>\n",
       "      <td>28.489196</td>\n",
       "      <td>50123.418396</td>\n",
       "      <td>593.598514</td>\n",
       "      <td>37.405491</td>\n",
       "      <td>-91.340229</td>\n",
       "      <td>1.095500e+08</td>\n",
       "      <td>...</td>\n",
       "      <td>40.111999</td>\n",
       "      <td>40.131864</td>\n",
       "      <td>22.148145</td>\n",
       "      <td>550.411243</td>\n",
       "      <td>2233.003186</td>\n",
       "      <td>0.634194</td>\n",
       "      <td>0.505632</td>\n",
       "      <td>0.047960</td>\n",
       "      <td>0.019346</td>\n",
       "      <td>0.099191</td>\n",
       "    </tr>\n",
       "    <tr>\n",
       "      <th>std</th>\n",
       "      <td>21466.372658</td>\n",
       "      <td>NaN</td>\n",
       "      <td>0.0</td>\n",
       "      <td>99.304334</td>\n",
       "      <td>16.607262</td>\n",
       "      <td>29775.134038</td>\n",
       "      <td>232.074263</td>\n",
       "      <td>5.625904</td>\n",
       "      <td>16.407818</td>\n",
       "      <td>7.624940e+08</td>\n",
       "      <td>...</td>\n",
       "      <td>5.851192</td>\n",
       "      <td>7.972026</td>\n",
       "      <td>2.554907</td>\n",
       "      <td>280.992521</td>\n",
       "      <td>1072.017063</td>\n",
       "      <td>0.232232</td>\n",
       "      <td>0.139774</td>\n",
       "      <td>0.038693</td>\n",
       "      <td>0.021428</td>\n",
       "      <td>0.048525</td>\n",
       "    </tr>\n",
       "    <tr>\n",
       "      <th>min</th>\n",
       "      <td>220336.000000</td>\n",
       "      <td>NaN</td>\n",
       "      <td>140.0</td>\n",
       "      <td>1.000000</td>\n",
       "      <td>1.000000</td>\n",
       "      <td>601.000000</td>\n",
       "      <td>201.000000</td>\n",
       "      <td>17.965835</td>\n",
       "      <td>-166.770979</td>\n",
       "      <td>8.299000e+03</td>\n",
       "      <td>...</td>\n",
       "      <td>15.360240</td>\n",
       "      <td>12.833330</td>\n",
       "      <td>0.737110</td>\n",
       "      <td>0.251910</td>\n",
       "      <td>3.000000</td>\n",
       "      <td>0.000000</td>\n",
       "      <td>0.000000</td>\n",
       "      <td>0.000000</td>\n",
       "      <td>0.000000</td>\n",
       "      <td>0.000000</td>\n",
       "    </tr>\n",
       "    <tr>\n",
       "      <th>25%</th>\n",
       "      <td>238819.000000</td>\n",
       "      <td>NaN</td>\n",
       "      <td>140.0</td>\n",
       "      <td>29.000000</td>\n",
       "      <td>13.000000</td>\n",
       "      <td>25570.000000</td>\n",
       "      <td>404.000000</td>\n",
       "      <td>33.919813</td>\n",
       "      <td>-97.816561</td>\n",
       "      <td>1.718660e+06</td>\n",
       "      <td>...</td>\n",
       "      <td>36.729210</td>\n",
       "      <td>34.750000</td>\n",
       "      <td>21.270920</td>\n",
       "      <td>363.225840</td>\n",
       "      <td>1499.000000</td>\n",
       "      <td>0.492500</td>\n",
       "      <td>0.422020</td>\n",
       "      <td>0.020890</td>\n",
       "      <td>0.004500</td>\n",
       "      <td>0.064590</td>\n",
       "    </tr>\n",
       "    <tr>\n",
       "      <th>50%</th>\n",
       "      <td>257651.000000</td>\n",
       "      <td>NaN</td>\n",
       "      <td>140.0</td>\n",
       "      <td>61.000000</td>\n",
       "      <td>28.000000</td>\n",
       "      <td>47362.000000</td>\n",
       "      <td>612.000000</td>\n",
       "      <td>38.618093</td>\n",
       "      <td>-86.643344</td>\n",
       "      <td>4.835000e+06</td>\n",
       "      <td>...</td>\n",
       "      <td>40.196960</td>\n",
       "      <td>40.333330</td>\n",
       "      <td>22.472990</td>\n",
       "      <td>509.103610</td>\n",
       "      <td>2099.000000</td>\n",
       "      <td>0.687640</td>\n",
       "      <td>0.525270</td>\n",
       "      <td>0.038680</td>\n",
       "      <td>0.013870</td>\n",
       "      <td>0.094350</td>\n",
       "    </tr>\n",
       "    <tr>\n",
       "      <th>75%</th>\n",
       "      <td>276300.000000</td>\n",
       "      <td>NaN</td>\n",
       "      <td>140.0</td>\n",
       "      <td>109.000000</td>\n",
       "      <td>42.000000</td>\n",
       "      <td>77406.000000</td>\n",
       "      <td>787.000000</td>\n",
       "      <td>41.232973</td>\n",
       "      <td>-79.697311</td>\n",
       "      <td>3.204540e+07</td>\n",
       "      <td>...</td>\n",
       "      <td>43.496490</td>\n",
       "      <td>45.333330</td>\n",
       "      <td>23.549450</td>\n",
       "      <td>685.883910</td>\n",
       "      <td>2800.000000</td>\n",
       "      <td>0.815235</td>\n",
       "      <td>0.605660</td>\n",
       "      <td>0.065340</td>\n",
       "      <td>0.027910</td>\n",
       "      <td>0.128400</td>\n",
       "    </tr>\n",
       "    <tr>\n",
       "      <th>max</th>\n",
       "      <td>294333.000000</td>\n",
       "      <td>NaN</td>\n",
       "      <td>140.0</td>\n",
       "      <td>810.000000</td>\n",
       "      <td>72.000000</td>\n",
       "      <td>99929.000000</td>\n",
       "      <td>989.000000</td>\n",
       "      <td>64.804269</td>\n",
       "      <td>-65.695344</td>\n",
       "      <td>5.520166e+10</td>\n",
       "      <td>...</td>\n",
       "      <td>90.107940</td>\n",
       "      <td>90.166670</td>\n",
       "      <td>29.626680</td>\n",
       "      <td>4145.557870</td>\n",
       "      <td>15466.000000</td>\n",
       "      <td>1.000000</td>\n",
       "      <td>1.000000</td>\n",
       "      <td>0.714290</td>\n",
       "      <td>0.714290</td>\n",
       "      <td>0.362750</td>\n",
       "    </tr>\n",
       "  </tbody>\n",
       "</table>\n",
       "<p>8 rows × 74 columns</p>\n",
       "</div>"
      ],
      "text/plain": [
       "                 UID  BLOCKID  SUMLEVEL      COUNTYID       STATEID  \\\n",
       "count   11709.000000      0.0   11709.0  11709.000000  11709.000000   \n",
       "mean   257525.004783      NaN     140.0     85.710650     28.489196   \n",
       "std     21466.372658      NaN       0.0     99.304334     16.607262   \n",
       "min    220336.000000      NaN     140.0      1.000000      1.000000   \n",
       "25%    238819.000000      NaN     140.0     29.000000     13.000000   \n",
       "50%    257651.000000      NaN     140.0     61.000000     28.000000   \n",
       "75%    276300.000000      NaN     140.0    109.000000     42.000000   \n",
       "max    294333.000000      NaN     140.0    810.000000     72.000000   \n",
       "\n",
       "           zip_code     area_code           lat           lng         ALand  \\\n",
       "count  11709.000000  11709.000000  11709.000000  11709.000000  1.170900e+04   \n",
       "mean   50123.418396    593.598514     37.405491    -91.340229  1.095500e+08   \n",
       "std    29775.134038    232.074263      5.625904     16.407818  7.624940e+08   \n",
       "min      601.000000    201.000000     17.965835   -166.770979  8.299000e+03   \n",
       "25%    25570.000000    404.000000     33.919813    -97.816561  1.718660e+06   \n",
       "50%    47362.000000    612.000000     38.618093    -86.643344  4.835000e+06   \n",
       "75%    77406.000000    787.000000     41.232973    -79.697311  3.204540e+07   \n",
       "max    99929.000000    989.000000     64.804269    -65.695344  5.520166e+10   \n",
       "\n",
       "       ...  female_age_mean  female_age_median  female_age_stdev  \\\n",
       "count  ...     11613.000000       11613.000000      11613.000000   \n",
       "mean   ...        40.111999          40.131864         22.148145   \n",
       "std    ...         5.851192           7.972026          2.554907   \n",
       "min    ...        15.360240          12.833330          0.737110   \n",
       "25%    ...        36.729210          34.750000         21.270920   \n",
       "50%    ...        40.196960          40.333330         22.472990   \n",
       "75%    ...        43.496490          45.333330         23.549450   \n",
       "max    ...        90.107940          90.166670         29.626680   \n",
       "\n",
       "       female_age_sample_weight  female_age_samples       pct_own  \\\n",
       "count              11613.000000        11613.000000  11587.000000   \n",
       "mean                 550.411243         2233.003186      0.634194   \n",
       "std                  280.992521         1072.017063      0.232232   \n",
       "min                    0.251910            3.000000      0.000000   \n",
       "25%                  363.225840         1499.000000      0.492500   \n",
       "50%                  509.103610         2099.000000      0.687640   \n",
       "75%                  685.883910         2800.000000      0.815235   \n",
       "max                 4145.557870        15466.000000      1.000000   \n",
       "\n",
       "            married   married_snp     separated      divorced  \n",
       "count  11625.000000  11625.000000  11625.000000  11625.000000  \n",
       "mean       0.505632      0.047960      0.019346      0.099191  \n",
       "std        0.139774      0.038693      0.021428      0.048525  \n",
       "min        0.000000      0.000000      0.000000      0.000000  \n",
       "25%        0.422020      0.020890      0.004500      0.064590  \n",
       "50%        0.525270      0.038680      0.013870      0.094350  \n",
       "75%        0.605660      0.065340      0.027910      0.128400  \n",
       "max        1.000000      0.714290      0.714290      0.362750  \n",
       "\n",
       "[8 rows x 74 columns]"
      ]
     },
     "execution_count": 11,
     "metadata": {},
     "output_type": "execute_result"
    }
   ],
   "source": [
    "df_test.describe()"
   ]
  },
  {
   "cell_type": "code",
   "execution_count": 12,
   "id": "b1f5a371",
   "metadata": {
    "scrolled": true
   },
   "outputs": [
    {
     "name": "stdout",
     "output_type": "stream",
     "text": [
      "<class 'pandas.core.frame.DataFrame'>\n",
      "RangeIndex: 27019 entries, 0 to 27018\n",
      "Data columns (total 83 columns):\n",
      " #   Column                       Non-Null Count  Dtype  \n",
      "---  ------                       --------------  -----  \n",
      " 0   UID                          27019 non-null  int64  \n",
      " 1   COUNTYID                     27019 non-null  int64  \n",
      " 2   STATEID                      27019 non-null  int64  \n",
      " 3   state                        27019 non-null  object \n",
      " 4   state_ab                     27019 non-null  object \n",
      " 5   city                         27019 non-null  object \n",
      " 6   place                        27019 non-null  object \n",
      " 7   type                         27019 non-null  int64  \n",
      " 8   primary                      27019 non-null  object \n",
      " 9   zip_code                     27019 non-null  int64  \n",
      " 10  area_code                    27019 non-null  int64  \n",
      " 11  lat                          27019 non-null  float64\n",
      " 12  lng                          27019 non-null  float64\n",
      " 13  ALand                        27019 non-null  float64\n",
      " 14  AWater                       27019 non-null  int64  \n",
      " 15  pop                          27019 non-null  int64  \n",
      " 16  male_pop                     27019 non-null  int64  \n",
      " 17  female_pop                   27019 non-null  int64  \n",
      " 18  rent_mean                    27019 non-null  float64\n",
      " 19  rent_median                  27019 non-null  float64\n",
      " 20  rent_stdev                   27019 non-null  float64\n",
      " 21  rent_sample_weight           27019 non-null  float64\n",
      " 22  rent_samples                 27019 non-null  float64\n",
      " 23  rent_gt_10                   27019 non-null  float64\n",
      " 24  rent_gt_15                   27019 non-null  float64\n",
      " 25  rent_gt_20                   27019 non-null  float64\n",
      " 26  rent_gt_25                   27019 non-null  float64\n",
      " 27  rent_gt_30                   27019 non-null  float64\n",
      " 28  rent_gt_35                   27019 non-null  float64\n",
      " 29  rent_gt_40                   27019 non-null  float64\n",
      " 30  rent_gt_50                   27019 non-null  float64\n",
      " 31  universe_samples             27019 non-null  int64  \n",
      " 32  used_samples                 27019 non-null  int64  \n",
      " 33  hi_mean                      27019 non-null  float64\n",
      " 34  hi_median                    27019 non-null  float64\n",
      " 35  hi_stdev                     27019 non-null  float64\n",
      " 36  hi_sample_weight             27019 non-null  float64\n",
      " 37  hi_samples                   27019 non-null  float64\n",
      " 38  family_mean                  27019 non-null  float64\n",
      " 39  family_median                27019 non-null  float64\n",
      " 40  family_stdev                 27019 non-null  float64\n",
      " 41  family_sample_weight         27019 non-null  float64\n",
      " 42  family_samples               27019 non-null  float64\n",
      " 43  hc_mortgage_mean             27019 non-null  float64\n",
      " 44  hc_mortgage_median           27019 non-null  float64\n",
      " 45  hc_mortgage_stdev            27019 non-null  float64\n",
      " 46  hc_mortgage_sample_weight    27019 non-null  float64\n",
      " 47  hc_mortgage_samples          27019 non-null  float64\n",
      " 48  hc_mean                      27019 non-null  float64\n",
      " 49  hc_median                    27019 non-null  float64\n",
      " 50  hc_stdev                     27019 non-null  float64\n",
      " 51  hc_samples                   27019 non-null  float64\n",
      " 52  hc_sample_weight             27019 non-null  float64\n",
      " 53  home_equity_second_mortgage  27019 non-null  float64\n",
      " 54  second_mortgage              27019 non-null  float64\n",
      " 55  home_equity                  27019 non-null  float64\n",
      " 56  debt                         27019 non-null  float64\n",
      " 57  second_mortgage_cdf          27019 non-null  float64\n",
      " 58  home_equity_cdf              27019 non-null  float64\n",
      " 59  debt_cdf                     27019 non-null  float64\n",
      " 60  hs_degree                    27019 non-null  float64\n",
      " 61  hs_degree_male               27019 non-null  float64\n",
      " 62  hs_degree_female             27019 non-null  float64\n",
      " 63  male_age_mean                27019 non-null  float64\n",
      " 64  male_age_median              27019 non-null  float64\n",
      " 65  male_age_stdev               27019 non-null  float64\n",
      " 66  male_age_sample_weight       27019 non-null  float64\n",
      " 67  male_age_samples             27019 non-null  float64\n",
      " 68  female_age_mean              27019 non-null  float64\n",
      " 69  female_age_median            27019 non-null  float64\n",
      " 70  female_age_stdev             27019 non-null  float64\n",
      " 71  female_age_sample_weight     27019 non-null  float64\n",
      " 72  female_age_samples           27019 non-null  float64\n",
      " 73  pct_own                      27019 non-null  float64\n",
      " 74  married                      27019 non-null  float64\n",
      " 75  married_snp                  27019 non-null  float64\n",
      " 76  separated                    27019 non-null  float64\n",
      " 77  divorced                     27019 non-null  float64\n",
      " 78  bad_debt                     27019 non-null  float64\n",
      " 79  good_debt                    27019 non-null  float64\n",
      " 80  pop_density                  27019 non-null  float64\n",
      " 81  median_age                   27019 non-null  float64\n",
      " 82  pop_bin                      27019 non-null  object \n",
      "dtypes: float64(65), int64(12), object(6)\n",
      "memory usage: 17.1+ MB\n"
     ]
    }
   ],
   "source": [
    "df_train.info()"
   ]
  },
  {
   "cell_type": "code",
   "execution_count": 13,
   "id": "f8c35844",
   "metadata": {
    "scrolled": true
   },
   "outputs": [
    {
     "name": "stdout",
     "output_type": "stream",
     "text": [
      "<class 'pandas.core.frame.DataFrame'>\n",
      "RangeIndex: 11709 entries, 0 to 11708\n",
      "Data columns (total 80 columns):\n",
      " #   Column                       Non-Null Count  Dtype  \n",
      "---  ------                       --------------  -----  \n",
      " 0   UID                          11709 non-null  int64  \n",
      " 1   BLOCKID                      0 non-null      float64\n",
      " 2   SUMLEVEL                     11709 non-null  int64  \n",
      " 3   COUNTYID                     11709 non-null  int64  \n",
      " 4   STATEID                      11709 non-null  int64  \n",
      " 5   state                        11709 non-null  object \n",
      " 6   state_ab                     11709 non-null  object \n",
      " 7   city                         11709 non-null  object \n",
      " 8   place                        11709 non-null  object \n",
      " 9   type                         11709 non-null  object \n",
      " 10  primary                      11709 non-null  object \n",
      " 11  zip_code                     11709 non-null  int64  \n",
      " 12  area_code                    11709 non-null  int64  \n",
      " 13  lat                          11709 non-null  float64\n",
      " 14  lng                          11709 non-null  float64\n",
      " 15  ALand                        11709 non-null  int64  \n",
      " 16  AWater                       11709 non-null  int64  \n",
      " 17  pop                          11709 non-null  int64  \n",
      " 18  male_pop                     11709 non-null  int64  \n",
      " 19  female_pop                   11709 non-null  int64  \n",
      " 20  rent_mean                    11561 non-null  float64\n",
      " 21  rent_median                  11561 non-null  float64\n",
      " 22  rent_stdev                   11561 non-null  float64\n",
      " 23  rent_sample_weight           11561 non-null  float64\n",
      " 24  rent_samples                 11561 non-null  float64\n",
      " 25  rent_gt_10                   11560 non-null  float64\n",
      " 26  rent_gt_15                   11560 non-null  float64\n",
      " 27  rent_gt_20                   11560 non-null  float64\n",
      " 28  rent_gt_25                   11560 non-null  float64\n",
      " 29  rent_gt_30                   11560 non-null  float64\n",
      " 30  rent_gt_35                   11560 non-null  float64\n",
      " 31  rent_gt_40                   11560 non-null  float64\n",
      " 32  rent_gt_50                   11560 non-null  float64\n",
      " 33  universe_samples             11709 non-null  int64  \n",
      " 34  used_samples                 11709 non-null  int64  \n",
      " 35  hi_mean                      11587 non-null  float64\n",
      " 36  hi_median                    11587 non-null  float64\n",
      " 37  hi_stdev                     11587 non-null  float64\n",
      " 38  hi_sample_weight             11587 non-null  float64\n",
      " 39  hi_samples                   11587 non-null  float64\n",
      " 40  family_mean                  11573 non-null  float64\n",
      " 41  family_median                11573 non-null  float64\n",
      " 42  family_stdev                 11573 non-null  float64\n",
      " 43  family_sample_weight         11573 non-null  float64\n",
      " 44  family_samples               11573 non-null  float64\n",
      " 45  hc_mortgage_mean             11441 non-null  float64\n",
      " 46  hc_mortgage_median           11441 non-null  float64\n",
      " 47  hc_mortgage_stdev            11441 non-null  float64\n",
      " 48  hc_mortgage_sample_weight    11441 non-null  float64\n",
      " 49  hc_mortgage_samples          11441 non-null  float64\n",
      " 50  hc_mean                      11419 non-null  float64\n",
      " 51  hc_median                    11419 non-null  float64\n",
      " 52  hc_stdev                     11419 non-null  float64\n",
      " 53  hc_samples                   11419 non-null  float64\n",
      " 54  hc_sample_weight             11419 non-null  float64\n",
      " 55  home_equity_second_mortgage  11489 non-null  float64\n",
      " 56  second_mortgage              11489 non-null  float64\n",
      " 57  home_equity                  11489 non-null  float64\n",
      " 58  debt                         11489 non-null  float64\n",
      " 59  second_mortgage_cdf          11489 non-null  float64\n",
      " 60  home_equity_cdf              11489 non-null  float64\n",
      " 61  debt_cdf                     11489 non-null  float64\n",
      " 62  hs_degree                    11624 non-null  float64\n",
      " 63  hs_degree_male               11620 non-null  float64\n",
      " 64  hs_degree_female             11604 non-null  float64\n",
      " 65  male_age_mean                11625 non-null  float64\n",
      " 66  male_age_median              11625 non-null  float64\n",
      " 67  male_age_stdev               11625 non-null  float64\n",
      " 68  male_age_sample_weight       11625 non-null  float64\n",
      " 69  male_age_samples             11625 non-null  float64\n",
      " 70  female_age_mean              11613 non-null  float64\n",
      " 71  female_age_median            11613 non-null  float64\n",
      " 72  female_age_stdev             11613 non-null  float64\n",
      " 73  female_age_sample_weight     11613 non-null  float64\n",
      " 74  female_age_samples           11613 non-null  float64\n",
      " 75  pct_own                      11587 non-null  float64\n",
      " 76  married                      11625 non-null  float64\n",
      " 77  married_snp                  11625 non-null  float64\n",
      " 78  separated                    11625 non-null  float64\n",
      " 79  divorced                     11625 non-null  float64\n",
      "dtypes: float64(61), int64(13), object(6)\n",
      "memory usage: 7.1+ MB\n"
     ]
    }
   ],
   "source": [
    "df_test.info()"
   ]
  },
  {
   "cell_type": "code",
   "execution_count": 14,
   "id": "774ce516",
   "metadata": {},
   "outputs": [],
   "source": [
    "# 2. Figure out the primary key and look for the requirement of indexing"
   ]
  },
  {
   "cell_type": "code",
   "execution_count": 15,
   "id": "90f13a87",
   "metadata": {},
   "outputs": [],
   "source": [
    "df_train.set_index('UID',inplace=True)\n",
    "df_test.set_index('UID',inplace=True)"
   ]
  },
  {
   "cell_type": "code",
   "execution_count": 16,
   "id": "c3893216",
   "metadata": {},
   "outputs": [
    {
     "data": {
      "text/html": [
       "<div>\n",
       "<style scoped>\n",
       "    .dataframe tbody tr th:only-of-type {\n",
       "        vertical-align: middle;\n",
       "    }\n",
       "\n",
       "    .dataframe tbody tr th {\n",
       "        vertical-align: top;\n",
       "    }\n",
       "\n",
       "    .dataframe thead th {\n",
       "        text-align: right;\n",
       "    }\n",
       "</style>\n",
       "<table border=\"1\" class=\"dataframe\">\n",
       "  <thead>\n",
       "    <tr style=\"text-align: right;\">\n",
       "      <th></th>\n",
       "      <th>COUNTYID</th>\n",
       "      <th>STATEID</th>\n",
       "      <th>state</th>\n",
       "      <th>state_ab</th>\n",
       "      <th>city</th>\n",
       "      <th>place</th>\n",
       "      <th>type</th>\n",
       "      <th>primary</th>\n",
       "      <th>zip_code</th>\n",
       "      <th>area_code</th>\n",
       "      <th>...</th>\n",
       "      <th>pct_own</th>\n",
       "      <th>married</th>\n",
       "      <th>married_snp</th>\n",
       "      <th>separated</th>\n",
       "      <th>divorced</th>\n",
       "      <th>bad_debt</th>\n",
       "      <th>good_debt</th>\n",
       "      <th>pop_density</th>\n",
       "      <th>median_age</th>\n",
       "      <th>pop_bin</th>\n",
       "    </tr>\n",
       "    <tr>\n",
       "      <th>UID</th>\n",
       "      <th></th>\n",
       "      <th></th>\n",
       "      <th></th>\n",
       "      <th></th>\n",
       "      <th></th>\n",
       "      <th></th>\n",
       "      <th></th>\n",
       "      <th></th>\n",
       "      <th></th>\n",
       "      <th></th>\n",
       "      <th></th>\n",
       "      <th></th>\n",
       "      <th></th>\n",
       "      <th></th>\n",
       "      <th></th>\n",
       "      <th></th>\n",
       "      <th></th>\n",
       "      <th></th>\n",
       "      <th></th>\n",
       "      <th></th>\n",
       "      <th></th>\n",
       "    </tr>\n",
       "  </thead>\n",
       "  <tbody>\n",
       "    <tr>\n",
       "      <th>267822</th>\n",
       "      <td>53</td>\n",
       "      <td>36</td>\n",
       "      <td>New York</td>\n",
       "      <td>NY</td>\n",
       "      <td>Hamilton</td>\n",
       "      <td>Hamilton</td>\n",
       "      <td>1</td>\n",
       "      <td>tract</td>\n",
       "      <td>13346</td>\n",
       "      <td>315</td>\n",
       "      <td>...</td>\n",
       "      <td>0.79046</td>\n",
       "      <td>0.57851</td>\n",
       "      <td>0.01882</td>\n",
       "      <td>0.01240</td>\n",
       "      <td>0.0877</td>\n",
       "      <td>0.09408</td>\n",
       "      <td>0.43555</td>\n",
       "      <td>0.000026</td>\n",
       "      <td>44.667430</td>\n",
       "      <td>very_low</td>\n",
       "    </tr>\n",
       "    <tr>\n",
       "      <th>246444</th>\n",
       "      <td>141</td>\n",
       "      <td>18</td>\n",
       "      <td>Indiana</td>\n",
       "      <td>IN</td>\n",
       "      <td>South Bend</td>\n",
       "      <td>Roseland</td>\n",
       "      <td>1</td>\n",
       "      <td>tract</td>\n",
       "      <td>46616</td>\n",
       "      <td>574</td>\n",
       "      <td>...</td>\n",
       "      <td>0.52483</td>\n",
       "      <td>0.34886</td>\n",
       "      <td>0.01426</td>\n",
       "      <td>0.01426</td>\n",
       "      <td>0.0903</td>\n",
       "      <td>0.04274</td>\n",
       "      <td>0.56581</td>\n",
       "      <td>0.001687</td>\n",
       "      <td>34.722748</td>\n",
       "      <td>very_low</td>\n",
       "    </tr>\n",
       "  </tbody>\n",
       "</table>\n",
       "<p>2 rows × 82 columns</p>\n",
       "</div>"
      ],
      "text/plain": [
       "        COUNTYID  STATEID     state state_ab        city     place  type  \\\n",
       "UID                                                                        \n",
       "267822        53       36  New York       NY    Hamilton  Hamilton     1   \n",
       "246444       141       18   Indiana       IN  South Bend  Roseland     1   \n",
       "\n",
       "       primary  zip_code  area_code  ...  pct_own  married  married_snp  \\\n",
       "UID                                  ...                                  \n",
       "267822   tract     13346        315  ...  0.79046  0.57851      0.01882   \n",
       "246444   tract     46616        574  ...  0.52483  0.34886      0.01426   \n",
       "\n",
       "        separated  divorced  bad_debt  good_debt  pop_density  median_age  \\\n",
       "UID                                                                         \n",
       "267822    0.01240    0.0877   0.09408    0.43555     0.000026   44.667430   \n",
       "246444    0.01426    0.0903   0.04274    0.56581     0.001687   34.722748   \n",
       "\n",
       "         pop_bin  \n",
       "UID               \n",
       "267822  very_low  \n",
       "246444  very_low  \n",
       "\n",
       "[2 rows x 82 columns]"
      ]
     },
     "execution_count": 16,
     "metadata": {},
     "output_type": "execute_result"
    }
   ],
   "source": [
    "df_train.head(2)"
   ]
  },
  {
   "cell_type": "code",
   "execution_count": 17,
   "id": "8ef769e6",
   "metadata": {},
   "outputs": [
    {
     "data": {
      "text/html": [
       "<div>\n",
       "<style scoped>\n",
       "    .dataframe tbody tr th:only-of-type {\n",
       "        vertical-align: middle;\n",
       "    }\n",
       "\n",
       "    .dataframe tbody tr th {\n",
       "        vertical-align: top;\n",
       "    }\n",
       "\n",
       "    .dataframe thead th {\n",
       "        text-align: right;\n",
       "    }\n",
       "</style>\n",
       "<table border=\"1\" class=\"dataframe\">\n",
       "  <thead>\n",
       "    <tr style=\"text-align: right;\">\n",
       "      <th></th>\n",
       "      <th>BLOCKID</th>\n",
       "      <th>SUMLEVEL</th>\n",
       "      <th>COUNTYID</th>\n",
       "      <th>STATEID</th>\n",
       "      <th>state</th>\n",
       "      <th>state_ab</th>\n",
       "      <th>city</th>\n",
       "      <th>place</th>\n",
       "      <th>type</th>\n",
       "      <th>primary</th>\n",
       "      <th>...</th>\n",
       "      <th>female_age_mean</th>\n",
       "      <th>female_age_median</th>\n",
       "      <th>female_age_stdev</th>\n",
       "      <th>female_age_sample_weight</th>\n",
       "      <th>female_age_samples</th>\n",
       "      <th>pct_own</th>\n",
       "      <th>married</th>\n",
       "      <th>married_snp</th>\n",
       "      <th>separated</th>\n",
       "      <th>divorced</th>\n",
       "    </tr>\n",
       "    <tr>\n",
       "      <th>UID</th>\n",
       "      <th></th>\n",
       "      <th></th>\n",
       "      <th></th>\n",
       "      <th></th>\n",
       "      <th></th>\n",
       "      <th></th>\n",
       "      <th></th>\n",
       "      <th></th>\n",
       "      <th></th>\n",
       "      <th></th>\n",
       "      <th></th>\n",
       "      <th></th>\n",
       "      <th></th>\n",
       "      <th></th>\n",
       "      <th></th>\n",
       "      <th></th>\n",
       "      <th></th>\n",
       "      <th></th>\n",
       "      <th></th>\n",
       "      <th></th>\n",
       "      <th></th>\n",
       "    </tr>\n",
       "  </thead>\n",
       "  <tbody>\n",
       "    <tr>\n",
       "      <th>255504</th>\n",
       "      <td>NaN</td>\n",
       "      <td>140</td>\n",
       "      <td>163</td>\n",
       "      <td>26</td>\n",
       "      <td>Michigan</td>\n",
       "      <td>MI</td>\n",
       "      <td>Detroit</td>\n",
       "      <td>Dearborn Heights City</td>\n",
       "      <td>CDP</td>\n",
       "      <td>tract</td>\n",
       "      <td>...</td>\n",
       "      <td>34.78682</td>\n",
       "      <td>33.75000</td>\n",
       "      <td>21.58531</td>\n",
       "      <td>416.48097</td>\n",
       "      <td>1938.0</td>\n",
       "      <td>0.70252</td>\n",
       "      <td>0.28217</td>\n",
       "      <td>0.05910</td>\n",
       "      <td>0.03813</td>\n",
       "      <td>0.14299</td>\n",
       "    </tr>\n",
       "    <tr>\n",
       "      <th>252676</th>\n",
       "      <td>NaN</td>\n",
       "      <td>140</td>\n",
       "      <td>1</td>\n",
       "      <td>23</td>\n",
       "      <td>Maine</td>\n",
       "      <td>ME</td>\n",
       "      <td>Auburn</td>\n",
       "      <td>Auburn City</td>\n",
       "      <td>City</td>\n",
       "      <td>tract</td>\n",
       "      <td>...</td>\n",
       "      <td>44.23451</td>\n",
       "      <td>46.66667</td>\n",
       "      <td>22.37036</td>\n",
       "      <td>532.03505</td>\n",
       "      <td>1950.0</td>\n",
       "      <td>0.85128</td>\n",
       "      <td>0.64221</td>\n",
       "      <td>0.02338</td>\n",
       "      <td>0.00000</td>\n",
       "      <td>0.13377</td>\n",
       "    </tr>\n",
       "  </tbody>\n",
       "</table>\n",
       "<p>2 rows × 79 columns</p>\n",
       "</div>"
      ],
      "text/plain": [
       "        BLOCKID  SUMLEVEL  COUNTYID  STATEID     state state_ab     city  \\\n",
       "UID                                                                        \n",
       "255504      NaN       140       163       26  Michigan       MI  Detroit   \n",
       "252676      NaN       140         1       23     Maine       ME   Auburn   \n",
       "\n",
       "                        place  type primary  ...  female_age_mean  \\\n",
       "UID                                          ...                    \n",
       "255504  Dearborn Heights City   CDP   tract  ...         34.78682   \n",
       "252676            Auburn City  City   tract  ...         44.23451   \n",
       "\n",
       "        female_age_median  female_age_stdev  female_age_sample_weight  \\\n",
       "UID                                                                     \n",
       "255504           33.75000          21.58531                 416.48097   \n",
       "252676           46.66667          22.37036                 532.03505   \n",
       "\n",
       "        female_age_samples  pct_own  married  married_snp  separated  divorced  \n",
       "UID                                                                             \n",
       "255504              1938.0  0.70252  0.28217      0.05910    0.03813   0.14299  \n",
       "252676              1950.0  0.85128  0.64221      0.02338    0.00000   0.13377  \n",
       "\n",
       "[2 rows x 79 columns]"
      ]
     },
     "execution_count": 17,
     "metadata": {},
     "output_type": "execute_result"
    }
   ],
   "source": [
    "df_test.head(2)"
   ]
  },
  {
   "cell_type": "markdown",
   "id": "cc177883",
   "metadata": {},
   "source": [
    "### UID is the primary key as its is an unique User ID and can be used for indexing."
   ]
  },
  {
   "cell_type": "code",
   "execution_count": 18,
   "id": "ae9a66b3",
   "metadata": {},
   "outputs": [],
   "source": [
    "# 3. Gauge the fill rate of the variables and devise plans for missing value treatment. Please explain explicitly the reason for the treatment chosen for each variable"
   ]
  },
  {
   "cell_type": "code",
   "execution_count": 19,
   "id": "02f4131a",
   "metadata": {},
   "outputs": [
    {
     "data": {
      "text/plain": [
       "COUNTYID       0\n",
       "STATEID        0\n",
       "state          0\n",
       "state_ab       0\n",
       "city           0\n",
       "              ..\n",
       "bad_debt       0\n",
       "good_debt      0\n",
       "pop_density    0\n",
       "median_age     0\n",
       "pop_bin        0\n",
       "Length: 82, dtype: int64"
      ]
     },
     "execution_count": 19,
     "metadata": {},
     "output_type": "execute_result"
    }
   ],
   "source": [
    "df_train.isnull().sum()"
   ]
  },
  {
   "cell_type": "code",
   "execution_count": 20,
   "id": "c1e7d94a",
   "metadata": {},
   "outputs": [],
   "source": [
    "# Since BlOCKID is completly missing or Null in both train and test data. So we will drop BLOCKID feature\n",
    "df_test.drop(columns=['BLOCKID'],axis=0,inplace=True)"
   ]
  },
  {
   "cell_type": "code",
   "execution_count": 21,
   "id": "63d43194",
   "metadata": {},
   "outputs": [
    {
     "data": {
      "text/plain": [
       "SUMLEVEL    0\n",
       "COUNTYID    0\n",
       "dtype: int64"
      ]
     },
     "execution_count": 21,
     "metadata": {},
     "output_type": "execute_result"
    }
   ],
   "source": [
    "df_test.isna().sum().head(2)"
   ]
  },
  {
   "cell_type": "code",
   "execution_count": 22,
   "id": "99a67dae",
   "metadata": {},
   "outputs": [],
   "source": [
    "# SUMLEVEL doest not have any role in prediction power and  have no variance"
   ]
  },
  {
   "cell_type": "code",
   "execution_count": 23,
   "id": "80241560",
   "metadata": {},
   "outputs": [],
   "source": [
    "df_test.drop(columns=['SUMLEVEL'],axis=1,inplace=True)"
   ]
  },
  {
   "cell_type": "code",
   "execution_count": 24,
   "id": "2b744e5f",
   "metadata": {},
   "outputs": [
    {
     "data": {
      "text/plain": [
       "Index(['COUNTYID', 'STATEID', 'state', 'state_ab', 'city', 'place', 'type',\n",
       "       'primary', 'zip_code', 'area_code', 'lat', 'lng', 'ALand', 'AWater',\n",
       "       'pop', 'male_pop', 'female_pop', 'rent_mean', 'rent_median',\n",
       "       'rent_stdev', 'rent_sample_weight', 'rent_samples', 'rent_gt_10',\n",
       "       'rent_gt_15', 'rent_gt_20', 'rent_gt_25', 'rent_gt_30', 'rent_gt_35',\n",
       "       'rent_gt_40', 'rent_gt_50', 'universe_samples', 'used_samples',\n",
       "       'hi_mean', 'hi_median', 'hi_stdev', 'hi_sample_weight', 'hi_samples',\n",
       "       'family_mean', 'family_median', 'family_stdev', 'family_sample_weight',\n",
       "       'family_samples', 'hc_mortgage_mean', 'hc_mortgage_median',\n",
       "       'hc_mortgage_stdev', 'hc_mortgage_sample_weight', 'hc_mortgage_samples',\n",
       "       'hc_mean', 'hc_median', 'hc_stdev', 'hc_samples', 'hc_sample_weight',\n",
       "       'home_equity_second_mortgage', 'second_mortgage', 'home_equity', 'debt',\n",
       "       'second_mortgage_cdf', 'home_equity_cdf', 'debt_cdf', 'hs_degree',\n",
       "       'hs_degree_male', 'hs_degree_female', 'male_age_mean',\n",
       "       'male_age_median', 'male_age_stdev', 'male_age_sample_weight',\n",
       "       'male_age_samples', 'female_age_mean', 'female_age_median',\n",
       "       'female_age_stdev', 'female_age_sample_weight', 'female_age_samples',\n",
       "       'pct_own', 'married', 'married_snp', 'separated', 'divorced',\n",
       "       'bad_debt', 'good_debt', 'pop_density', 'median_age', 'pop_bin'],\n",
       "      dtype='object')"
      ]
     },
     "execution_count": 24,
     "metadata": {},
     "output_type": "execute_result"
    }
   ],
   "source": [
    "df_train.columns"
   ]
  },
  {
   "cell_type": "code",
   "execution_count": 25,
   "id": "16fac673",
   "metadata": {},
   "outputs": [
    {
     "data": {
      "text/plain": [
       "Index(['COUNTYID', 'STATEID', 'state', 'state_ab', 'city', 'place', 'type',\n",
       "       'primary', 'zip_code', 'area_code', 'lat', 'lng', 'ALand', 'AWater',\n",
       "       'pop', 'male_pop', 'female_pop', 'rent_mean', 'rent_median',\n",
       "       'rent_stdev', 'rent_sample_weight', 'rent_samples', 'rent_gt_10',\n",
       "       'rent_gt_15', 'rent_gt_20', 'rent_gt_25', 'rent_gt_30', 'rent_gt_35',\n",
       "       'rent_gt_40', 'rent_gt_50', 'universe_samples', 'used_samples',\n",
       "       'hi_mean', 'hi_median', 'hi_stdev', 'hi_sample_weight', 'hi_samples',\n",
       "       'family_mean', 'family_median', 'family_stdev', 'family_sample_weight',\n",
       "       'family_samples', 'hc_mortgage_mean', 'hc_mortgage_median',\n",
       "       'hc_mortgage_stdev', 'hc_mortgage_sample_weight', 'hc_mortgage_samples',\n",
       "       'hc_mean', 'hc_median', 'hc_stdev', 'hc_samples', 'hc_sample_weight',\n",
       "       'home_equity_second_mortgage', 'second_mortgage', 'home_equity', 'debt',\n",
       "       'second_mortgage_cdf', 'home_equity_cdf', 'debt_cdf', 'hs_degree',\n",
       "       'hs_degree_male', 'hs_degree_female', 'male_age_mean',\n",
       "       'male_age_median', 'male_age_stdev', 'male_age_sample_weight',\n",
       "       'male_age_samples', 'female_age_mean', 'female_age_median',\n",
       "       'female_age_stdev', 'female_age_sample_weight', 'female_age_samples',\n",
       "       'pct_own', 'married', 'married_snp', 'separated', 'divorced'],\n",
       "      dtype='object')"
      ]
     },
     "execution_count": 25,
     "metadata": {},
     "output_type": "execute_result"
    }
   ],
   "source": [
    "df_test.columns"
   ]
  },
  {
   "cell_type": "code",
   "execution_count": 26,
   "id": "a34b0f97",
   "metadata": {},
   "outputs": [],
   "source": [
    "# Drope the dublicates"
   ]
  },
  {
   "cell_type": "code",
   "execution_count": 27,
   "id": "7658eb87",
   "metadata": {},
   "outputs": [
    {
     "data": {
      "text/plain": [
       "0"
      ]
     },
     "execution_count": 27,
     "metadata": {},
     "output_type": "execute_result"
    }
   ],
   "source": [
    "df_train.duplicated().sum()"
   ]
  },
  {
   "cell_type": "code",
   "execution_count": 28,
   "id": "5480efca",
   "metadata": {},
   "outputs": [
    {
     "data": {
      "text/plain": [
       "32"
      ]
     },
     "execution_count": 28,
     "metadata": {},
     "output_type": "execute_result"
    }
   ],
   "source": [
    "df_test.duplicated().sum()"
   ]
  },
  {
   "cell_type": "code",
   "execution_count": 29,
   "id": "3b450d18",
   "metadata": {},
   "outputs": [],
   "source": [
    "df_train.drop_duplicates(inplace=True)"
   ]
  },
  {
   "cell_type": "code",
   "execution_count": 30,
   "id": "094cb18d",
   "metadata": {},
   "outputs": [],
   "source": [
    "df_test.drop_duplicates(inplace=True)"
   ]
  },
  {
   "cell_type": "code",
   "execution_count": 31,
   "id": "d7262a94",
   "metadata": {},
   "outputs": [
    {
     "data": {
      "text/plain": [
       "0"
      ]
     },
     "execution_count": 31,
     "metadata": {},
     "output_type": "execute_result"
    }
   ],
   "source": [
    "df_train.duplicated().sum()"
   ]
  },
  {
   "cell_type": "code",
   "execution_count": 32,
   "id": "0c0833a1",
   "metadata": {},
   "outputs": [
    {
     "data": {
      "text/plain": [
       "0"
      ]
     },
     "execution_count": 32,
     "metadata": {},
     "output_type": "execute_result"
    }
   ],
   "source": [
    "df_test.duplicated().sum()"
   ]
  },
  {
   "cell_type": "code",
   "execution_count": 33,
   "id": "a4160123",
   "metadata": {},
   "outputs": [],
   "source": [
    "# Imputing  missing values with median\n",
    "missing_train_cols=[]\n",
    "for col in df_train.columns:\n",
    "    if df_train[col].isna().sum() !=0:\n",
    "         missing_train_cols.append(col)"
   ]
  },
  {
   "cell_type": "code",
   "execution_count": 34,
   "id": "03c8d45d",
   "metadata": {},
   "outputs": [],
   "source": [
    "for col in df_train.columns:\n",
    "    if col in (missing_train_cols):\n",
    "        df_train[col].replace(np.nan, df_train[col].median(),inplace=True)"
   ]
  },
  {
   "cell_type": "code",
   "execution_count": 35,
   "id": "7a8b2793",
   "metadata": {},
   "outputs": [
    {
     "data": {
      "text/plain": [
       "0"
      ]
     },
     "execution_count": 35,
     "metadata": {},
     "output_type": "execute_result"
    }
   ],
   "source": [
    "df_train.isna().sum().sum()"
   ]
  },
  {
   "cell_type": "code",
   "execution_count": 36,
   "id": "2ff27125",
   "metadata": {},
   "outputs": [],
   "source": [
    "missing_test_cols=[]\n",
    "for col in df_test.columns:\n",
    "    if df_test[col].isna().sum() !=0:\n",
    "         missing_test_cols.append(col)"
   ]
  },
  {
   "cell_type": "code",
   "execution_count": 37,
   "id": "d8a3fbb7",
   "metadata": {},
   "outputs": [],
   "source": [
    "for col in df_test.columns:\n",
    "    if col in (missing_test_cols):\n",
    "        df_test[col].replace(np.nan, df_test[col].mean(),inplace=True)"
   ]
  },
  {
   "cell_type": "code",
   "execution_count": 38,
   "id": "c24fdbd2",
   "metadata": {},
   "outputs": [
    {
     "data": {
      "text/plain": [
       "0"
      ]
     },
     "execution_count": 38,
     "metadata": {},
     "output_type": "execute_result"
    }
   ],
   "source": [
    "df_test.isna().sum().sum()"
   ]
  },
  {
   "cell_type": "code",
   "execution_count": 39,
   "id": "0796395c",
   "metadata": {},
   "outputs": [],
   "source": [
    "# 4. Exploratory Data Analysis (EDA):"
   ]
  },
  {
   "cell_type": "code",
   "execution_count": 40,
   "id": "a21bdb4a",
   "metadata": {},
   "outputs": [],
   "source": [
    "# 4.1 Explore the top 2,500 locations where the percentage of households with a second mortgage is the highest and percent ownership is above 10%."
   ]
  },
  {
   "cell_type": "code",
   "execution_count": 41,
   "id": "7f19b197",
   "metadata": {},
   "outputs": [],
   "source": [
    "top_2500_loc=df_train[(df_train['second_mortgage']<0.50) & (df_train['pct_own']>0.10) ].sort_values(by='second_mortgage', ascending=False).head(2500)\n",
    "top_2500_loc=top_2500_loc[['state','city','state_ab','place','lat','lng']]"
   ]
  },
  {
   "cell_type": "code",
   "execution_count": 42,
   "id": "d590ff18",
   "metadata": {},
   "outputs": [
    {
     "data": {
      "text/html": [
       "<div>\n",
       "<style scoped>\n",
       "    .dataframe tbody tr th:only-of-type {\n",
       "        vertical-align: middle;\n",
       "    }\n",
       "\n",
       "    .dataframe tbody tr th {\n",
       "        vertical-align: top;\n",
       "    }\n",
       "\n",
       "    .dataframe thead th {\n",
       "        text-align: right;\n",
       "    }\n",
       "</style>\n",
       "<table border=\"1\" class=\"dataframe\">\n",
       "  <thead>\n",
       "    <tr style=\"text-align: right;\">\n",
       "      <th></th>\n",
       "      <th>state</th>\n",
       "      <th>city</th>\n",
       "      <th>state_ab</th>\n",
       "      <th>place</th>\n",
       "      <th>lat</th>\n",
       "      <th>lng</th>\n",
       "    </tr>\n",
       "    <tr>\n",
       "      <th>UID</th>\n",
       "      <th></th>\n",
       "      <th></th>\n",
       "      <th></th>\n",
       "      <th></th>\n",
       "      <th></th>\n",
       "      <th></th>\n",
       "    </tr>\n",
       "  </thead>\n",
       "  <tbody>\n",
       "    <tr>\n",
       "      <th>251185</th>\n",
       "      <td>Massachusetts</td>\n",
       "      <td>Worcester</td>\n",
       "      <td>MA</td>\n",
       "      <td>Worcester City</td>\n",
       "      <td>42.254262</td>\n",
       "      <td>-71.800347</td>\n",
       "    </tr>\n",
       "    <tr>\n",
       "      <th>269323</th>\n",
       "      <td>New York</td>\n",
       "      <td>Corona</td>\n",
       "      <td>NY</td>\n",
       "      <td>Harbor Hills</td>\n",
       "      <td>40.751809</td>\n",
       "      <td>-73.853582</td>\n",
       "    </tr>\n",
       "    <tr>\n",
       "      <th>251324</th>\n",
       "      <td>Maryland</td>\n",
       "      <td>Glen Burnie</td>\n",
       "      <td>MD</td>\n",
       "      <td>Glen Burnie</td>\n",
       "      <td>39.127273</td>\n",
       "      <td>-76.635265</td>\n",
       "    </tr>\n",
       "    <tr>\n",
       "      <th>235788</th>\n",
       "      <td>Florida</td>\n",
       "      <td>Tampa</td>\n",
       "      <td>FL</td>\n",
       "      <td>Egypt Lake-leto</td>\n",
       "      <td>28.029063</td>\n",
       "      <td>-82.495395</td>\n",
       "    </tr>\n",
       "    <tr>\n",
       "      <th>242304</th>\n",
       "      <td>Illinois</td>\n",
       "      <td>Chicago</td>\n",
       "      <td>IL</td>\n",
       "      <td>Lincolnwood</td>\n",
       "      <td>41.967289</td>\n",
       "      <td>-87.652434</td>\n",
       "    </tr>\n",
       "    <tr>\n",
       "      <th>...</th>\n",
       "      <td>...</td>\n",
       "      <td>...</td>\n",
       "      <td>...</td>\n",
       "      <td>...</td>\n",
       "      <td>...</td>\n",
       "      <td>...</td>\n",
       "    </tr>\n",
       "    <tr>\n",
       "      <th>225977</th>\n",
       "      <td>California</td>\n",
       "      <td>Marina Del Rey</td>\n",
       "      <td>CA</td>\n",
       "      <td>Marina Del Rey</td>\n",
       "      <td>33.983204</td>\n",
       "      <td>-118.466139</td>\n",
       "    </tr>\n",
       "    <tr>\n",
       "      <th>251433</th>\n",
       "      <td>Maryland</td>\n",
       "      <td>Baltimore</td>\n",
       "      <td>MD</td>\n",
       "      <td>Lochearn</td>\n",
       "      <td>39.353095</td>\n",
       "      <td>-76.733315</td>\n",
       "    </tr>\n",
       "    <tr>\n",
       "      <th>278341</th>\n",
       "      <td>Pennsylvania</td>\n",
       "      <td>Philadelphia</td>\n",
       "      <td>PA</td>\n",
       "      <td>Philadelphia City</td>\n",
       "      <td>40.039070</td>\n",
       "      <td>-75.125135</td>\n",
       "    </tr>\n",
       "    <tr>\n",
       "      <th>230480</th>\n",
       "      <td>California</td>\n",
       "      <td>Manteca</td>\n",
       "      <td>CA</td>\n",
       "      <td>Manteca City</td>\n",
       "      <td>37.732143</td>\n",
       "      <td>-121.242902</td>\n",
       "    </tr>\n",
       "    <tr>\n",
       "      <th>236853</th>\n",
       "      <td>Florida</td>\n",
       "      <td>Cutler Bay</td>\n",
       "      <td>FL</td>\n",
       "      <td>Cutler Bay</td>\n",
       "      <td>25.550391</td>\n",
       "      <td>-80.347791</td>\n",
       "    </tr>\n",
       "  </tbody>\n",
       "</table>\n",
       "<p>2500 rows × 6 columns</p>\n",
       "</div>"
      ],
      "text/plain": [
       "                state            city state_ab              place        lat  \\\n",
       "UID                                                                            \n",
       "251185  Massachusetts       Worcester       MA     Worcester City  42.254262   \n",
       "269323       New York          Corona       NY       Harbor Hills  40.751809   \n",
       "251324       Maryland     Glen Burnie       MD        Glen Burnie  39.127273   \n",
       "235788        Florida           Tampa       FL    Egypt Lake-leto  28.029063   \n",
       "242304       Illinois         Chicago       IL        Lincolnwood  41.967289   \n",
       "...               ...             ...      ...                ...        ...   \n",
       "225977     California  Marina Del Rey       CA     Marina Del Rey  33.983204   \n",
       "251433       Maryland       Baltimore       MD           Lochearn  39.353095   \n",
       "278341   Pennsylvania    Philadelphia       PA  Philadelphia City  40.039070   \n",
       "230480     California         Manteca       CA       Manteca City  37.732143   \n",
       "236853        Florida      Cutler Bay       FL         Cutler Bay  25.550391   \n",
       "\n",
       "               lng  \n",
       "UID                 \n",
       "251185  -71.800347  \n",
       "269323  -73.853582  \n",
       "251324  -76.635265  \n",
       "235788  -82.495395  \n",
       "242304  -87.652434  \n",
       "...            ...  \n",
       "225977 -118.466139  \n",
       "251433  -76.733315  \n",
       "278341  -75.125135  \n",
       "230480 -121.242902  \n",
       "236853  -80.347791  \n",
       "\n",
       "[2500 rows x 6 columns]"
      ]
     },
     "execution_count": 42,
     "metadata": {},
     "output_type": "execute_result"
    }
   ],
   "source": [
    "top_2500_loc"
   ]
  },
  {
   "cell_type": "code",
   "execution_count": 43,
   "id": "ddcf2581",
   "metadata": {},
   "outputs": [],
   "source": [
    "# 4.2 Bad Debt = second_mortgage + home_equity - home_equity_second_mortgage"
   ]
  },
  {
   "cell_type": "code",
   "execution_count": 44,
   "id": "bd9ec6c9",
   "metadata": {},
   "outputs": [],
   "source": [
    "df_train['bad_debt']=df_train['second_mortgage']+df_train['home_equity']-df_train['home_equity_second_mortgage']"
   ]
  },
  {
   "cell_type": "code",
   "execution_count": 45,
   "id": "adc0c765",
   "metadata": {},
   "outputs": [
    {
     "data": {
      "text/plain": [
       "UID\n",
       "267822    0.09408\n",
       "246444    0.04274\n",
       "245683    0.09512\n",
       "279653    0.01086\n",
       "247218    0.05426\n",
       "Name: bad_debt, dtype: float64"
      ]
     },
     "execution_count": 45,
     "metadata": {},
     "output_type": "execute_result"
    }
   ],
   "source": [
    "df_train['bad_debt'].head()"
   ]
  },
  {
   "cell_type": "code",
   "execution_count": 46,
   "id": "febc1b57",
   "metadata": {},
   "outputs": [],
   "source": [
    "# 4.3 Create pie charts (Venn diagram) to show overall debt (% bad and good debt) and bad debt (2 mortgage and home equity loan)."
   ]
  },
  {
   "cell_type": "code",
   "execution_count": 47,
   "id": "5cf2e2ef",
   "metadata": {},
   "outputs": [
    {
     "data": {
      "image/png": "[encoded data removed]",
      "text/plain": [
       "<Figure size 432x288 with 1 Axes>"
      ]
     },
     "metadata": {},
     "output_type": "display_data"
    }
   ],
   "source": [
    "labels = 'Debt', 'Bad_debt'\n",
    "sizes = [df_train['debt'].mean()*100, df_train['bad_debt'].mean()*100]\n",
    "plt.pie(sizes,autopct='%1.1f%%',labels=labels)\n",
    "plt.show()"
   ]
  },
  {
   "cell_type": "code",
   "execution_count": 48,
   "id": "4d38e4b2",
   "metadata": {},
   "outputs": [],
   "source": [
    "# good debt\n",
    "df_train['good_debt']=df_train['debt']-df_train['bad_debt']"
   ]
  },
  {
   "cell_type": "code",
   "execution_count": 49,
   "id": "97d36f24",
   "metadata": {},
   "outputs": [
    {
     "data": {
      "text/plain": [
       "UID\n",
       "267822    0.43555\n",
       "246444    0.56581\n",
       "245683    0.63972\n",
       "279653    0.51628\n",
       "247218    0.46512\n",
       "Name: good_debt, dtype: float64"
      ]
     },
     "execution_count": 49,
     "metadata": {},
     "output_type": "execute_result"
    }
   ],
   "source": [
    "df_train['good_debt'].head()"
   ]
  },
  {
   "cell_type": "code",
   "execution_count": 50,
   "id": "9a29079e",
   "metadata": {},
   "outputs": [],
   "source": [
    "# 4.4 Create Box and whisker plot and analyze the distribution for 2nd mortgage, home equity, good debt and bad debt for different cities"
   ]
  },
  {
   "cell_type": "code",
   "execution_count": 51,
   "id": "1f3b3b56",
   "metadata": {},
   "outputs": [
    {
     "data": {
      "text/plain": [
       "UID\n",
       "267822       Hamilton\n",
       "246444     South Bend\n",
       "245683       Danville\n",
       "279653       San Juan\n",
       "247218      Manhattan\n",
       "             ...     \n",
       "279212          Coamo\n",
       "277856      Blue Bell\n",
       "233000        Weldona\n",
       "287425    Colleyville\n",
       "265371      Las Vegas\n",
       "Name: city, Length: 27019, dtype: object"
      ]
     },
     "execution_count": 51,
     "metadata": {},
     "output_type": "execute_result"
    }
   ],
   "source": [
    "df_train['city']"
   ]
  },
  {
   "cell_type": "code",
   "execution_count": 52,
   "id": "a03f6043",
   "metadata": {},
   "outputs": [],
   "source": [
    "df_Hamilton = df_train.loc[df_train['city']=='Hamilton']\n",
    "df_SouthBend = df_train.loc[df_train['city']=='South Bend']\n",
    "df_Danville = df_train.loc[df_train['city']=='Danville']\n",
    "df_SanJuan = df_train.loc[df_train['city']=='San Juan']\n",
    "df_Manhattan = df_train.loc[df_train['city']=='Manhattan']\n",
    "df_Nocona = df_train.loc[df_train['city']=='Nocona']\n",
    "df_cities = pd.concat([df_Hamilton,df_SouthBend,df_Danville,df_SanJuan,df_Manhattan,df_Nocona])"
   ]
  },
  {
   "cell_type": "code",
   "execution_count": 53,
   "id": "8ca0be1b",
   "metadata": {
    "scrolled": false
   },
   "outputs": [
    {
     "data": {
      "image/png": "[encoded data removed]",
      "text/plain": [
       "<Figure size 720x720 with 1 Axes>"
      ]
     },
     "metadata": {
      "needs_background": "light"
     },
     "output_type": "display_data"
    }
   ],
   "source": [
    "plt.figure(figsize=(10,10))\n",
    "sns.boxplot(data=df_cities,x='second_mortgage',y='city')\n",
    "plt.show()"
   ]
  },
  {
   "cell_type": "code",
   "execution_count": 54,
   "id": "091cb25b",
   "metadata": {},
   "outputs": [
    {
     "data": {
      "image/png": "[encoded data removed]",
      "text/plain": [
       "<Figure size 720x720 with 1 Axes>"
      ]
     },
     "metadata": {
      "needs_background": "light"
     },
     "output_type": "display_data"
    }
   ],
   "source": [
    "plt.figure(figsize=(10,10))\n",
    "sns.boxplot(data=df_cities,x='home_equity',y='city')\n",
    "plt.show()"
   ]
  },
  {
   "cell_type": "code",
   "execution_count": 55,
   "id": "79218fb1",
   "metadata": {},
   "outputs": [
    {
     "data": {
      "image/png": "[encoded data removed]",
      "text/plain": [
       "<Figure size 720x720 with 1 Axes>"
      ]
     },
     "metadata": {
      "needs_background": "light"
     },
     "output_type": "display_data"
    }
   ],
   "source": [
    "plt.figure(figsize=(10,10))\n",
    "sns.boxplot(data=df_cities,x='good_debt',y='city')\n",
    "plt.show()"
   ]
  },
  {
   "cell_type": "code",
   "execution_count": 56,
   "id": "938d3f6d",
   "metadata": {},
   "outputs": [
    {
     "data": {
      "image/png": "[encoded data removed]",
      "text/plain": [
       "<Figure size 720x720 with 1 Axes>"
      ]
     },
     "metadata": {
      "needs_background": "light"
     },
     "output_type": "display_data"
    }
   ],
   "source": [
    "plt.figure(figsize=(10,10))\n",
    "sns.boxplot(data=df_cities,x='bad_debt',y='city')\n",
    "plt.show() "
   ]
  },
  {
   "cell_type": "code",
   "execution_count": 57,
   "id": "94bc1455",
   "metadata": {},
   "outputs": [
    {
     "name": "stderr",
     "output_type": "stream",
     "text": [
      "C:\\Users\\Sanjana\\anaconda3\\lib\\site-packages\\seaborn\\distributions.py:2619: FutureWarning: `distplot` is a deprecated function and will be removed in a future version. Please adapt your code to use either `displot` (a figure-level function with similar flexibility) or `histplot` (an axes-level function for histograms).\n",
      "  warnings.warn(msg, FutureWarning)\n",
      "C:\\Users\\Sanjana\\anaconda3\\lib\\site-packages\\seaborn\\distributions.py:2619: FutureWarning: `distplot` is a deprecated function and will be removed in a future version. Please adapt your code to use either `displot` (a figure-level function with similar flexibility) or `histplot` (an axes-level function for histograms).\n",
      "  warnings.warn(msg, FutureWarning)\n",
      "C:\\Users\\Sanjana\\anaconda3\\lib\\site-packages\\seaborn\\distributions.py:2619: FutureWarning: `distplot` is a deprecated function and will be removed in a future version. Please adapt your code to use either `displot` (a figure-level function with similar flexibility) or `histplot` (an axes-level function for histograms).\n",
      "  warnings.warn(msg, FutureWarning)\n"
     ]
    },
    {
     "data": {
      "image/png": "[encoded data removed]",
      "text/plain": [
       "<Figure size 1440x720 with 3 Axes>"
      ]
     },
     "metadata": {
      "needs_background": "light"
     },
     "output_type": "display_data"
    }
   ],
   "source": [
    "plt.figure(figsize=(20,10))\n",
    "\n",
    "plt.subplot(2,3,1)\n",
    "sns.distplot(df_train['family_mean'])\n",
    "plt.title('Family Income')\n",
    "plt.subplot(2,3,2)\n",
    "sns.distplot(df_train['hi_mean'])\n",
    "plt.title('Household Income')\n",
    "plt.subplot(2,3,3)\n",
    "sns.distplot(df_train['family_mean']-df_train['hi_mean'])\n",
    "plt.title('Remaining income distribution chart')\n",
    "plt.show()"
   ]
  },
  {
   "cell_type": "code",
   "execution_count": 58,
   "id": "bc3eb338",
   "metadata": {},
   "outputs": [],
   "source": [
    "# 5. Perform EDA and come out with insights into population density and age."
   ]
  },
  {
   "cell_type": "code",
   "execution_count": 59,
   "id": "36d3b00c",
   "metadata": {},
   "outputs": [
    {
     "data": {
      "text/plain": [
       "UID\n",
       "267822    5230\n",
       "246444    2633\n",
       "245683    6881\n",
       "279653    2700\n",
       "247218    5637\n",
       "Name: pop, dtype: int64"
      ]
     },
     "execution_count": 59,
     "metadata": {},
     "output_type": "execute_result"
    }
   ],
   "source": [
    "# 5.1 Population density (hint-use ‘pop’ and ‘Aland’ to calculate)\n",
    "df_train['pop'].head()"
   ]
  },
  {
   "cell_type": "code",
   "execution_count": 60,
   "id": "fa8ffdb6",
   "metadata": {},
   "outputs": [
    {
     "data": {
      "text/plain": [
       "UID\n",
       "267822    202183361.0\n",
       "246444      1560828.0\n",
       "245683     69561595.0\n",
       "279653      1105793.0\n",
       "247218      2554403.0\n",
       "Name: ALand, dtype: float64"
      ]
     },
     "execution_count": 60,
     "metadata": {},
     "output_type": "execute_result"
    }
   ],
   "source": [
    "df_train['ALand'].head()"
   ]
  },
  {
   "cell_type": "code",
   "execution_count": 61,
   "id": "a086b95a",
   "metadata": {},
   "outputs": [],
   "source": [
    "df_train['pop_density']=df_train['pop']/df_train['ALand']"
   ]
  },
  {
   "cell_type": "code",
   "execution_count": 62,
   "id": "b376cf5d",
   "metadata": {},
   "outputs": [
    {
     "data": {
      "text/plain": [
       "UID\n",
       "267822    0.000026\n",
       "246444    0.001687\n",
       "245683    0.000099\n",
       "279653    0.002442\n",
       "247218    0.002207\n",
       "Name: pop_density, dtype: float64"
      ]
     },
     "execution_count": 62,
     "metadata": {},
     "output_type": "execute_result"
    }
   ],
   "source": [
    "df_train['pop_density'].head()"
   ]
  },
  {
   "cell_type": "code",
   "execution_count": 63,
   "id": "e141c9cb",
   "metadata": {},
   "outputs": [
    {
     "name": "stderr",
     "output_type": "stream",
     "text": [
      "C:\\Users\\Sanjana\\anaconda3\\lib\\site-packages\\seaborn\\distributions.py:2619: FutureWarning: `distplot` is a deprecated function and will be removed in a future version. Please adapt your code to use either `displot` (a figure-level function with similar flexibility) or `histplot` (an axes-level function for histograms).\n",
      "  warnings.warn(msg, FutureWarning)\n"
     ]
    },
    {
     "data": {
      "image/png": "[encoded data removed]",
      "text/plain": [
       "<Figure size 432x288 with 1 Axes>"
      ]
     },
     "metadata": {
      "needs_background": "light"
     },
     "output_type": "display_data"
    },
    {
     "data": {
      "text/plain": [
       "<Figure size 1440x720 with 0 Axes>"
      ]
     },
     "metadata": {},
     "output_type": "display_data"
    }
   ],
   "source": [
    "sns.distplot(df_train['pop_density'])\n",
    "plt.title('Population Density')\n",
    "plt.figure(figsize=(20,10))\n",
    "plt.show()"
   ]
  },
  {
   "cell_type": "code",
   "execution_count": 64,
   "id": "9d64b4ac",
   "metadata": {},
   "outputs": [],
   "source": [
    "# 5.2 median age (hint-use the variables ‘male_age_median’, ‘female_age_median’, ‘male_pop’, ‘female_pop’)"
   ]
  },
  {
   "cell_type": "code",
   "execution_count": 65,
   "id": "2175090e",
   "metadata": {},
   "outputs": [],
   "source": [
    "df_train['median_age']=(df_train['male_age_median']*df_train['male_pop']+df_train['female_age_median']*df_train['female_pop'])/df_train['pop']"
   ]
  },
  {
   "cell_type": "code",
   "execution_count": 66,
   "id": "c1506b68",
   "metadata": {},
   "outputs": [
    {
     "data": {
      "text/plain": [
       "UID\n",
       "267822    44.667430\n",
       "246444    34.722748\n",
       "245683    41.774472\n",
       "279653    49.879012\n",
       "247218    21.965629\n",
       "Name: median_age, dtype: float64"
      ]
     },
     "execution_count": 66,
     "metadata": {},
     "output_type": "execute_result"
    }
   ],
   "source": [
    "df_train['median_age'].head()"
   ]
  },
  {
   "cell_type": "code",
   "execution_count": 67,
   "id": "a0d4cdd1",
   "metadata": {},
   "outputs": [],
   "source": [
    "df_test['median_age']=(df_test['male_age_median']*df_test['male_pop']+df_test['female_age_median']*df_test['female_pop'])/df_test['pop']"
   ]
  },
  {
   "cell_type": "code",
   "execution_count": 68,
   "id": "be2ce681",
   "metadata": {},
   "outputs": [
    {
     "data": {
      "text/plain": [
       "UID\n",
       "255504    31.189053\n",
       "252676    46.382991\n",
       "276314    43.147420\n",
       "248614    45.155104\n",
       "286865    43.235983\n",
       "Name: median_age, dtype: float64"
      ]
     },
     "execution_count": 68,
     "metadata": {},
     "output_type": "execute_result"
    }
   ],
   "source": [
    "df_test['median_age'].head()"
   ]
  },
  {
   "cell_type": "code",
   "execution_count": 69,
   "id": "0db2320c",
   "metadata": {},
   "outputs": [
    {
     "name": "stderr",
     "output_type": "stream",
     "text": [
      "C:\\Users\\Sanjana\\anaconda3\\lib\\site-packages\\seaborn\\distributions.py:2619: FutureWarning: `distplot` is a deprecated function and will be removed in a future version. Please adapt your code to use either `displot` (a figure-level function with similar flexibility) or `histplot` (an axes-level function for histograms).\n",
      "  warnings.warn(msg, FutureWarning)\n"
     ]
    },
    {
     "data": {
      "image/png": "[encoded data removed]",
      "text/plain": [
       "<Figure size 432x288 with 1 Axes>"
      ]
     },
     "metadata": {
      "needs_background": "light"
     },
     "output_type": "display_data"
    },
    {
     "data": {
      "text/plain": [
       "<Figure size 1440x720 with 0 Axes>"
      ]
     },
     "metadata": {},
     "output_type": "display_data"
    }
   ],
   "source": [
    "sns.distplot(df_train['median_age'])\n",
    "plt.title('Median Age')\n",
    "plt.figure(figsize=(20,10))\n",
    "plt.show()"
   ]
  },
  {
   "cell_type": "code",
   "execution_count": 70,
   "id": "0dabe15f",
   "metadata": {},
   "outputs": [],
   "source": [
    "# 6.\n",
    "# 6.1 Create bins for population into a new variable by selecting appropriate class interval so that the no of categories(bins) don’t exceed 5 for the ease of analysis. "
   ]
  },
  {
   "cell_type": "code",
   "execution_count": 71,
   "id": "920f96a7",
   "metadata": {},
   "outputs": [
    {
     "data": {
      "text/html": [
       "<div>\n",
       "<style scoped>\n",
       "    .dataframe tbody tr th:only-of-type {\n",
       "        vertical-align: middle;\n",
       "    }\n",
       "\n",
       "    .dataframe tbody tr th {\n",
       "        vertical-align: top;\n",
       "    }\n",
       "\n",
       "    .dataframe thead th {\n",
       "        text-align: right;\n",
       "    }\n",
       "</style>\n",
       "<table border=\"1\" class=\"dataframe\">\n",
       "  <thead>\n",
       "    <tr style=\"text-align: right;\">\n",
       "      <th></th>\n",
       "      <th>pop</th>\n",
       "      <th>pop_bin</th>\n",
       "    </tr>\n",
       "    <tr>\n",
       "      <th>UID</th>\n",
       "      <th></th>\n",
       "      <th></th>\n",
       "    </tr>\n",
       "  </thead>\n",
       "  <tbody>\n",
       "    <tr>\n",
       "      <th>267822</th>\n",
       "      <td>5230</td>\n",
       "      <td>very_low</td>\n",
       "    </tr>\n",
       "    <tr>\n",
       "      <th>246444</th>\n",
       "      <td>2633</td>\n",
       "      <td>very_low</td>\n",
       "    </tr>\n",
       "    <tr>\n",
       "      <th>245683</th>\n",
       "      <td>6881</td>\n",
       "      <td>very_low</td>\n",
       "    </tr>\n",
       "    <tr>\n",
       "      <th>279653</th>\n",
       "      <td>2700</td>\n",
       "      <td>very_low</td>\n",
       "    </tr>\n",
       "    <tr>\n",
       "      <th>247218</th>\n",
       "      <td>5637</td>\n",
       "      <td>very_low</td>\n",
       "    </tr>\n",
       "    <tr>\n",
       "      <th>...</th>\n",
       "      <td>...</td>\n",
       "      <td>...</td>\n",
       "    </tr>\n",
       "    <tr>\n",
       "      <th>279212</th>\n",
       "      <td>1847</td>\n",
       "      <td>very_low</td>\n",
       "    </tr>\n",
       "    <tr>\n",
       "      <th>277856</th>\n",
       "      <td>4155</td>\n",
       "      <td>very_low</td>\n",
       "    </tr>\n",
       "    <tr>\n",
       "      <th>233000</th>\n",
       "      <td>2829</td>\n",
       "      <td>very_low</td>\n",
       "    </tr>\n",
       "    <tr>\n",
       "      <th>287425</th>\n",
       "      <td>11542</td>\n",
       "      <td>low</td>\n",
       "    </tr>\n",
       "    <tr>\n",
       "      <th>265371</th>\n",
       "      <td>3726</td>\n",
       "      <td>very_low</td>\n",
       "    </tr>\n",
       "  </tbody>\n",
       "</table>\n",
       "<p>27019 rows × 2 columns</p>\n",
       "</div>"
      ],
      "text/plain": [
       "          pop   pop_bin\n",
       "UID                    \n",
       "267822   5230  very_low\n",
       "246444   2633  very_low\n",
       "245683   6881  very_low\n",
       "279653   2700  very_low\n",
       "247218   5637  very_low\n",
       "...       ...       ...\n",
       "279212   1847  very_low\n",
       "277856   4155  very_low\n",
       "233000   2829  very_low\n",
       "287425  11542       low\n",
       "265371   3726  very_low\n",
       "\n",
       "[27019 rows x 2 columns]"
      ]
     },
     "execution_count": 71,
     "metadata": {},
     "output_type": "execute_result"
    }
   ],
   "source": [
    "df_train['pop_bin']=pd.cut(df_train['pop'],bins=5,labels=['very_low','low','medium','high','very_high'])\n",
    "df_train[['pop','pop_bin']]"
   ]
  },
  {
   "cell_type": "code",
   "execution_count": 72,
   "id": "9f930c28",
   "metadata": {},
   "outputs": [
    {
     "data": {
      "text/plain": [
       "very_low     26760\n",
       "low            245\n",
       "medium           9\n",
       "high             4\n",
       "very_high        1\n",
       "Name: pop_bin, dtype: int64"
      ]
     },
     "execution_count": 72,
     "metadata": {},
     "output_type": "execute_result"
    }
   ],
   "source": [
    "df_train['pop_bin'].value_counts()"
   ]
  },
  {
   "cell_type": "code",
   "execution_count": 73,
   "id": "098c41e9",
   "metadata": {},
   "outputs": [
    {
     "data": {
      "text/html": [
       "<div>\n",
       "<style scoped>\n",
       "    .dataframe tbody tr th:only-of-type {\n",
       "        vertical-align: middle;\n",
       "    }\n",
       "\n",
       "    .dataframe tbody tr th {\n",
       "        vertical-align: top;\n",
       "    }\n",
       "\n",
       "    .dataframe thead th {\n",
       "        text-align: right;\n",
       "    }\n",
       "</style>\n",
       "<table border=\"1\" class=\"dataframe\">\n",
       "  <thead>\n",
       "    <tr style=\"text-align: right;\">\n",
       "      <th></th>\n",
       "      <th>married</th>\n",
       "      <th>separated</th>\n",
       "      <th>divorced</th>\n",
       "    </tr>\n",
       "    <tr>\n",
       "      <th>pop_bin</th>\n",
       "      <th></th>\n",
       "      <th></th>\n",
       "      <th></th>\n",
       "    </tr>\n",
       "  </thead>\n",
       "  <tbody>\n",
       "    <tr>\n",
       "      <th>very_low</th>\n",
       "      <td>26760</td>\n",
       "      <td>26760</td>\n",
       "      <td>26760</td>\n",
       "    </tr>\n",
       "    <tr>\n",
       "      <th>low</th>\n",
       "      <td>245</td>\n",
       "      <td>245</td>\n",
       "      <td>245</td>\n",
       "    </tr>\n",
       "    <tr>\n",
       "      <th>medium</th>\n",
       "      <td>9</td>\n",
       "      <td>9</td>\n",
       "      <td>9</td>\n",
       "    </tr>\n",
       "    <tr>\n",
       "      <th>high</th>\n",
       "      <td>4</td>\n",
       "      <td>4</td>\n",
       "      <td>4</td>\n",
       "    </tr>\n",
       "    <tr>\n",
       "      <th>very_high</th>\n",
       "      <td>1</td>\n",
       "      <td>1</td>\n",
       "      <td>1</td>\n",
       "    </tr>\n",
       "  </tbody>\n",
       "</table>\n",
       "</div>"
      ],
      "text/plain": [
       "           married  separated  divorced\n",
       "pop_bin                                \n",
       "very_low     26760      26760     26760\n",
       "low            245        245       245\n",
       "medium           9          9         9\n",
       "high             4          4         4\n",
       "very_high        1          1         1"
      ]
     },
     "execution_count": 73,
     "metadata": {},
     "output_type": "execute_result"
    }
   ],
   "source": [
    "# 6.2 Analyze the married, separated and divorced population for these population brackets.\n",
    "df_train.groupby('pop_bin')[['married','separated','divorced']].count()"
   ]
  },
  {
   "cell_type": "code",
   "execution_count": 74,
   "id": "280d1cda",
   "metadata": {},
   "outputs": [
    {
     "data": {
      "text/plain": [
       "<AxesSubplot:xlabel='pop_bin'>"
      ]
     },
     "execution_count": 74,
     "metadata": {},
     "output_type": "execute_result"
    },
    {
     "data": {
      "image/png": "[encoded data removed]",
      "text/plain": [
       "<Figure size 432x288 with 1 Axes>"
      ]
     },
     "metadata": {
      "needs_background": "light"
     },
     "output_type": "display_data"
    }
   ],
   "source": [
    "# 6.3 Visualize using appropriate chart type.\n",
    "df_train.groupby('pop_bin')[['married','separated','divorced']].mean().plot()"
   ]
  },
  {
   "cell_type": "code",
   "execution_count": 75,
   "id": "606c8060",
   "metadata": {},
   "outputs": [],
   "source": [
    "# 7. Please detail your observations for rent as a percentage of income at an overall level and for different states."
   ]
  },
  {
   "cell_type": "code",
   "execution_count": 76,
   "id": "42593dd2",
   "metadata": {},
   "outputs": [
    {
     "data": {
      "text/html": [
       "<div>\n",
       "<style scoped>\n",
       "    .dataframe tbody tr th:only-of-type {\n",
       "        vertical-align: middle;\n",
       "    }\n",
       "\n",
       "    .dataframe tbody tr th {\n",
       "        vertical-align: top;\n",
       "    }\n",
       "\n",
       "    .dataframe thead th {\n",
       "        text-align: right;\n",
       "    }\n",
       "</style>\n",
       "<table border=\"1\" class=\"dataframe\">\n",
       "  <thead>\n",
       "    <tr style=\"text-align: right;\">\n",
       "      <th></th>\n",
       "      <th>mean</th>\n",
       "    </tr>\n",
       "    <tr>\n",
       "      <th>state</th>\n",
       "      <th></th>\n",
       "    </tr>\n",
       "  </thead>\n",
       "  <tbody>\n",
       "    <tr>\n",
       "      <th>Alabama</th>\n",
       "      <td>772.384981</td>\n",
       "    </tr>\n",
       "    <tr>\n",
       "      <th>Alaska</th>\n",
       "      <td>1185.763570</td>\n",
       "    </tr>\n",
       "    <tr>\n",
       "      <th>Arizona</th>\n",
       "      <td>1098.248711</td>\n",
       "    </tr>\n",
       "    <tr>\n",
       "      <th>Arkansas</th>\n",
       "      <td>718.044133</td>\n",
       "    </tr>\n",
       "    <tr>\n",
       "      <th>California</th>\n",
       "      <td>1474.839976</td>\n",
       "    </tr>\n",
       "  </tbody>\n",
       "</table>\n",
       "</div>"
      ],
      "text/plain": [
       "                   mean\n",
       "state                  \n",
       "Alabama      772.384981\n",
       "Alaska      1185.763570\n",
       "Arizona     1098.248711\n",
       "Arkansas     718.044133\n",
       "California  1474.839976"
      ]
     },
     "execution_count": 76,
     "metadata": {},
     "output_type": "execute_result"
    }
   ],
   "source": [
    "rentmean = df_train.groupby(by='state')['rent_mean'].agg([\"mean\"])\n",
    "rentmean.head()"
   ]
  },
  {
   "cell_type": "code",
   "execution_count": 77,
   "id": "f39d7a62",
   "metadata": {
    "scrolled": true
   },
   "outputs": [
    {
     "data": {
      "text/html": [
       "<div>\n",
       "<style scoped>\n",
       "    .dataframe tbody tr th:only-of-type {\n",
       "        vertical-align: middle;\n",
       "    }\n",
       "\n",
       "    .dataframe tbody tr th {\n",
       "        vertical-align: top;\n",
       "    }\n",
       "\n",
       "    .dataframe thead th {\n",
       "        text-align: right;\n",
       "    }\n",
       "</style>\n",
       "<table border=\"1\" class=\"dataframe\">\n",
       "  <thead>\n",
       "    <tr style=\"text-align: right;\">\n",
       "      <th></th>\n",
       "      <th>mean</th>\n",
       "    </tr>\n",
       "    <tr>\n",
       "      <th>state</th>\n",
       "      <th></th>\n",
       "    </tr>\n",
       "  </thead>\n",
       "  <tbody>\n",
       "    <tr>\n",
       "      <th>Alabama</th>\n",
       "      <td>66956.895642</td>\n",
       "    </tr>\n",
       "    <tr>\n",
       "      <th>Alaska</th>\n",
       "      <td>92136.545109</td>\n",
       "    </tr>\n",
       "    <tr>\n",
       "      <th>Arizona</th>\n",
       "      <td>73325.150744</td>\n",
       "    </tr>\n",
       "    <tr>\n",
       "      <th>Arkansas</th>\n",
       "      <td>64409.153057</td>\n",
       "    </tr>\n",
       "    <tr>\n",
       "      <th>California</th>\n",
       "      <td>87844.208331</td>\n",
       "    </tr>\n",
       "  </tbody>\n",
       "</table>\n",
       "</div>"
      ],
      "text/plain": [
       "                    mean\n",
       "state                   \n",
       "Alabama     66956.895642\n",
       "Alaska      92136.545109\n",
       "Arizona     73325.150744\n",
       "Arkansas    64409.153057\n",
       "California  87844.208331"
      ]
     },
     "execution_count": 77,
     "metadata": {},
     "output_type": "execute_result"
    }
   ],
   "source": [
    "income_mean = df_train.groupby(by='state')['family_mean'].agg([\"mean\"])\n",
    "income_mean.head()"
   ]
  },
  {
   "cell_type": "code",
   "execution_count": 78,
   "id": "6be10f79",
   "metadata": {},
   "outputs": [
    {
     "data": {
      "text/plain": [
       "state\n",
       "Alabama       0.011536\n",
       "Alaska        0.012870\n",
       "Arizona       0.014978\n",
       "Arkansas      0.011148\n",
       "California    0.016789\n",
       "Name: mean, dtype: float64"
      ]
     },
     "execution_count": 78,
     "metadata": {},
     "output_type": "execute_result"
    }
   ],
   "source": [
    "rent_perc_of_income=rentmean['mean']/income_mean['mean']\n",
    "rent_perc_of_income.head()"
   ]
  },
  {
   "cell_type": "code",
   "execution_count": 79,
   "id": "cf9155d5",
   "metadata": {},
   "outputs": [
    {
     "data": {
      "text/plain": [
       "0.013349672690490422"
      ]
     },
     "execution_count": 79,
     "metadata": {},
     "output_type": "execute_result"
    }
   ],
   "source": [
    "# overall level rent as a percentage of income\n",
    "sum(df_train['rent_mean'])/sum(df_train['family_mean'])"
   ]
  },
  {
   "cell_type": "code",
   "execution_count": 80,
   "id": "69c29e5d",
   "metadata": {},
   "outputs": [],
   "source": [
    "# 8. Perform correlation analysis for all the relevant variables by creating a heatmap. Describe your findings. "
   ]
  },
  {
   "cell_type": "code",
   "execution_count": 81,
   "id": "bf61721d",
   "metadata": {},
   "outputs": [],
   "source": [
    "correlation = df_train[['COUNTYID', 'STATEID','type','zip_code','pop','rent_mean',\n",
    "                 'hi_mean','family_mean','hc_mortgage_mean','second_mortgage','home_equity','hs_degree','debt',\n",
    "                 'male_age_mean','female_age_mean','married','separated','divorced','pop_density','median_age']].corr()"
   ]
  },
  {
   "cell_type": "code",
   "execution_count": 82,
   "id": "19d4c503",
   "metadata": {},
   "outputs": [
    {
     "data": {
      "image/png": "[encoded data removed]",
      "text/plain": [
       "<Figure size 1440x1080 with 2 Axes>"
      ]
     },
     "metadata": {
      "needs_background": "light"
     },
     "output_type": "display_data"
    }
   ],
   "source": [
    "plt.figure(figsize=(20,15))\n",
    "sns.heatmap(correlation,annot=True)\n",
    "plt.show()"
   ]
  },
  {
   "cell_type": "markdown",
   "id": "ec80f88c",
   "metadata": {},
   "source": [
    " ### High positive correaltion is noticed between rent_mean,hi_mean, family_mean,hc_mean"
   ]
  },
  {
   "cell_type": "code",
   "execution_count": 83,
   "id": "4c9cfc85",
   "metadata": {},
   "outputs": [
    {
     "data": {
      "text/plain": [
       "0"
      ]
     },
     "execution_count": 83,
     "metadata": {},
     "output_type": "execute_result"
    }
   ],
   "source": [
    "df_train.isnull().sum().sum()"
   ]
  },
  {
   "cell_type": "code",
   "execution_count": 84,
   "id": "c2c0f10b",
   "metadata": {},
   "outputs": [],
   "source": [
    "df_train = df_train.dropna()"
   ]
  },
  {
   "cell_type": "code",
   "execution_count": 85,
   "id": "eaca396f",
   "metadata": {},
   "outputs": [
    {
     "data": {
      "text/plain": [
       "0"
      ]
     },
     "execution_count": 85,
     "metadata": {},
     "output_type": "execute_result"
    }
   ],
   "source": [
    "df_train.isnull().sum().sum()"
   ]
  },
  {
   "cell_type": "code",
   "execution_count": 86,
   "id": "e648e911",
   "metadata": {},
   "outputs": [
    {
     "data": {
      "text/plain": [
       "74"
      ]
     },
     "execution_count": 86,
     "metadata": {},
     "output_type": "execute_result"
    }
   ],
   "source": [
    "df_test.isnull().sum().sum()"
   ]
  },
  {
   "cell_type": "code",
   "execution_count": 87,
   "id": "dcf7e35a",
   "metadata": {},
   "outputs": [
    {
     "data": {
      "text/plain": [
       "0"
      ]
     },
     "execution_count": 87,
     "metadata": {},
     "output_type": "execute_result"
    }
   ],
   "source": [
    "df_test = df_test.dropna()\n",
    "df_test.isnull().sum().sum()"
   ]
  },
  {
   "cell_type": "code",
   "execution_count": 88,
   "id": "3d56c6c7",
   "metadata": {},
   "outputs": [],
   "source": [
    "# 9. The economic multivariate data has a significant number of measured variables. The goal is to find where the measured variables depend on a number of smaller unobserved common factors or latent variables. Each variable is assumed to depend on a linear combination of the common factors, and the coefficients are known as loadings. Each measured variable also includes a component due to independent random variability, known as \"specific variance\" because it is specific to one variable. Obtain the common factors and then plot the loadings. Use factor analysis to find latent variables in our dataset and gain insight into the linear relationships in the data Highschool graduation rates Median population age Second Mortgage Statistics Percent Own Bad Debt Expense"
   ]
  },
  {
   "cell_type": "code",
   "execution_count": 89,
   "id": "802aed49",
   "metadata": {},
   "outputs": [],
   "source": [
    "import time\n",
    "import random\n",
    "from math import *\n",
    "import operator\n",
    "from sklearn.decomposition import FactorAnalysis\n",
    "from factor_analyzer import FactorAnalyzer"
   ]
  },
  {
   "cell_type": "code",
   "execution_count": 90,
   "id": "5fe301d6",
   "metadata": {},
   "outputs": [
    {
     "name": "stdout",
     "output_type": "stream",
     "text": [
      "Requirement already satisfied: factor_analyzer in c:\\users\\sanjana\\anaconda3\\lib\\site-packages (0.4.1)\n",
      "Requirement already satisfied: pandas in c:\\users\\sanjana\\anaconda3\\lib\\site-packages (from factor_analyzer) (1.4.2)\n",
      "Requirement already satisfied: pre-commit in c:\\users\\sanjana\\anaconda3\\lib\\site-packages (from factor_analyzer) (3.0.4)\n",
      "Requirement already satisfied: numpy in c:\\users\\sanjana\\anaconda3\\lib\\site-packages (from factor_analyzer) (1.21.5)\n",
      "Requirement already satisfied: scikit-learn in c:\\users\\sanjana\\anaconda3\\lib\\site-packages (from factor_analyzer) (1.0.2)\n",
      "Requirement already satisfied: scipy in c:\\users\\sanjana\\anaconda3\\lib\\site-packages (from factor_analyzer) (1.7.3)\n",
      "Requirement already satisfied: pytz>=2020.1 in c:\\users\\sanjana\\anaconda3\\lib\\site-packages (from pandas->factor_analyzer) (2021.3)\n",
      "Requirement already satisfied: python-dateutil>=2.8.1 in c:\\users\\sanjana\\anaconda3\\lib\\site-packages (from pandas->factor_analyzer) (2.8.2)\n",
      "Requirement already satisfied: six>=1.5 in c:\\users\\sanjana\\anaconda3\\lib\\site-packages (from python-dateutil>=2.8.1->pandas->factor_analyzer) (1.16.0)\n",
      "Requirement already satisfied: cfgv>=2.0.0 in c:\\users\\sanjana\\anaconda3\\lib\\site-packages (from pre-commit->factor_analyzer) (3.3.1)\n",
      "Requirement already satisfied: nodeenv>=0.11.1 in c:\\users\\sanjana\\anaconda3\\lib\\site-packages (from pre-commit->factor_analyzer) (1.7.0)\n",
      "Requirement already satisfied: identify>=1.0.0 in c:\\users\\sanjana\\anaconda3\\lib\\site-packages (from pre-commit->factor_analyzer) (2.5.17)\n",
      "Requirement already satisfied: pyyaml>=5.1 in c:\\users\\sanjana\\anaconda3\\lib\\site-packages (from pre-commit->factor_analyzer) (6.0)\n",
      "Requirement already satisfied: virtualenv>=20.10.0 in c:\\users\\sanjana\\anaconda3\\lib\\site-packages (from pre-commit->factor_analyzer) (20.19.0)\n",
      "Requirement already satisfied: setuptools in c:\\users\\sanjana\\anaconda3\\lib\\site-packages (from nodeenv>=0.11.1->pre-commit->factor_analyzer) (61.2.0)\n",
      "Requirement already satisfied: platformdirs<4,>=2.4 in c:\\users\\sanjana\\anaconda3\\lib\\site-packages (from virtualenv>=20.10.0->pre-commit->factor_analyzer) (3.0.0)\n",
      "Requirement already satisfied: distlib<1,>=0.3.6 in c:\\users\\sanjana\\anaconda3\\lib\\site-packages (from virtualenv>=20.10.0->pre-commit->factor_analyzer) (0.3.6)\n",
      "Requirement already satisfied: filelock<4,>=3.4.1 in c:\\users\\sanjana\\anaconda3\\lib\\site-packages (from virtualenv>=20.10.0->pre-commit->factor_analyzer) (3.6.0)\n",
      "Requirement already satisfied: threadpoolctl>=2.0.0 in c:\\users\\sanjana\\anaconda3\\lib\\site-packages (from scikit-learn->factor_analyzer) (2.2.0)\n",
      "Requirement already satisfied: joblib>=0.11 in c:\\users\\sanjana\\anaconda3\\lib\\site-packages (from scikit-learn->factor_analyzer) (1.2.0)\n"
     ]
    }
   ],
   "source": [
    "!pip install factor_analyzer"
   ]
  },
  {
   "cell_type": "code",
   "execution_count": 91,
   "id": "1b3cc582",
   "metadata": {
    "scrolled": false
   },
   "outputs": [
    {
     "data": {
      "text/plain": [
       "array([[-0.11644186,  0.02171578, -0.0266188 , -0.06243169,  0.03802854],\n",
       "       [-0.11353884,  0.01802461,  0.02265372, -0.15375024,  0.1107309 ],\n",
       "       [-0.12908259, -0.03620796,  0.05764695, -0.09491081, -0.04417506],\n",
       "       [-0.08516285,  0.04869818, -0.12936178, -0.0456674 , -0.11606205],\n",
       "       [ 0.01614531,  0.01809483,  0.00706129,  0.03084765, -0.0104142 ],\n",
       "       [ 0.09525563, -0.10245538, -0.05364374, -0.1406583 , -0.14712147],\n",
       "       [-0.00937776, -0.03686209,  0.14009704,  0.00534894,  0.12058589],\n",
       "       [-0.03934069, -0.01993814,  0.03588011, -0.09209513,  0.06566584],\n",
       "       [-0.00100544, -0.01499477, -0.00284552, -0.0443058 ,  0.02581625],\n",
       "       [ 0.06624817,  0.96109551, -0.08641495, -0.00986998, -0.07068491],\n",
       "       [ 0.05831511,  0.92576904, -0.10281808, -0.03023638, -0.07664072],\n",
       "       [ 0.0714355 ,  0.95352464, -0.06660691,  0.01058604, -0.06212693],\n",
       "       [ 0.75175509, -0.00278668, -0.02830495,  0.11024767, -0.16122081],\n",
       "       [ 0.70060639, -0.00594339, -0.03554925,  0.10551833, -0.17230646],\n",
       "       [ 0.69757065,  0.01447988, -0.02295497,  0.09363671,  0.05488664],\n",
       "       [-0.13007863,  0.33381963, -0.53463288, -0.06425768,  0.31650213],\n",
       "       [ 0.23172284,  0.41902457, -0.69828641, -0.05637834,  0.3262507 ],\n",
       "       [-0.05517849,  0.02975109,  0.03166301,  0.44139264, -0.17195687],\n",
       "       [-0.03993787,  0.00966322,  0.0441802 ,  0.67146033, -0.16580806],\n",
       "       [-0.05667666, -0.02489563,  0.07540447,  0.83252545, -0.10006015],\n",
       "       [-0.07154947, -0.04416648,  0.10281695,  0.92266717, -0.05257811],\n",
       "       [-0.08235234, -0.05306789,  0.12740138,  0.95218322, -0.02997922],\n",
       "       [-0.06822722, -0.06159197,  0.13144436,  0.93221248, -0.00881798],\n",
       "       [-0.06353129, -0.06777933,  0.11931678,  0.88677643,  0.00210941],\n",
       "       [-0.04429536, -0.08052178,  0.08395171,  0.77748135,  0.02168599],\n",
       "       [ 0.21394104,  0.44427247, -0.67825575, -0.05635856,  0.34895667],\n",
       "       [ 0.23451167,  0.42481502, -0.69001636, -0.05892975,  0.32279885],\n",
       "       [ 0.77846459,  0.04474403,  0.16137795, -0.20603523, -0.17836104],\n",
       "       [ 0.70312393,  0.04639161,  0.15647539, -0.21686535, -0.23592346],\n",
       "       [ 0.85992496,  0.03705885,  0.1562267 , -0.13178471,  0.01722593],\n",
       "       [-0.21719055,  0.84783794, -0.08597257,  0.05469255,  0.24134264],\n",
       "       [ 0.148261  ,  0.95523671, -0.0063279 , -0.0611125 ,  0.10067671],\n",
       "       [ 0.82657366,  0.03040055,  0.1684442 , -0.21074646, -0.09249729],\n",
       "       [ 0.78959359,  0.02463553,  0.16176261, -0.2121632 , -0.10988514],\n",
       "       [ 0.81336055,  0.03784461,  0.12845656, -0.12195503,  0.04822126],\n",
       "       [-0.3452666 ,  0.86625887,  0.02772924,  0.09239244,  0.04298432],\n",
       "       [ 0.04655359,  0.9372061 ,  0.1541279 , -0.02589648, -0.10295677],\n",
       "       [ 0.96647399, -0.04286301, -0.10844424,  0.03295356,  0.04351366],\n",
       "       [ 0.94637029, -0.04880648, -0.1227154 ,  0.03372037,  0.03448994],\n",
       "       [ 0.81435169, -0.00418776,  0.06515892,  0.01048184,  0.12122197],\n",
       "       [-0.41139424,  0.736979  ,  0.36268618, -0.0591945 , -0.27064426],\n",
       "       [ 0.07265093,  0.7374821 ,  0.30432675, -0.03990768, -0.36481944],\n",
       "       [ 0.89742219, -0.05832395, -0.06080156, -0.01702991,  0.13780843],\n",
       "       [ 0.85981177, -0.05776484, -0.07130622, -0.01697775,  0.12610937],\n",
       "       [ 0.75271234, -0.00592211,  0.02783218, -0.01070373,  0.25210469],\n",
       "       [-0.10784036,  0.63194567,  0.62233464, -0.0144104 ,  0.3012563 ],\n",
       "       [-0.32579998,  0.58499363,  0.58115962, -0.01424944,  0.27419943],\n",
       "       [-0.12052458, -0.00961887, -0.09519931,  0.1153964 , -0.59405233],\n",
       "       [-0.09638444, -0.01666647, -0.09585755,  0.13097005, -0.60198653],\n",
       "       [ 0.2811322 , -0.02433896,  0.03482181,  0.09316044, -0.57809881],\n",
       "       [ 0.18704656,  0.07464218, -0.28575455,  0.01407475, -0.70358197],\n",
       "       [ 0.07613832, -0.06721514, -0.08486682, -0.09944994,  0.62512022],\n",
       "       [-0.29451826, -0.00659853, -0.08811671, -0.09048574,  0.59152602],\n",
       "       [-0.19540095, -0.06637664,  0.32205461, -0.01410174,  0.70945088],\n",
       "       [ 0.40856246,  0.05814177,  0.26929142, -0.22759704, -0.17099623],\n",
       "       [ 0.42115799,  0.05958535,  0.2362342 , -0.21801175, -0.16166807],\n",
       "       [ 0.36808097,  0.05205649,  0.28396321, -0.22415263, -0.16583956],\n",
       "       [ 0.26127028, -0.04008873,  0.77521123,  0.08641824,  0.38658702],\n",
       "       [ 0.2645381 , -0.02564815,  0.80146928,  0.07044695,  0.30009899],\n",
       "       [-0.04723426,  0.07607308,  0.57602792,  0.08762827,  0.1412369 ],\n",
       "       [ 0.03711737,  0.83983652, -0.16958557, -0.01704192, -0.0788918 ],\n",
       "       [ 0.05805864,  0.9256212 , -0.1029808 , -0.03069581, -0.07689619],\n",
       "       [ 0.22064935, -0.03767193,  0.76257039,  0.13570495,  0.39590252],\n",
       "       [ 0.21261977, -0.02358844,  0.82739658,  0.12685035,  0.31318753],\n",
       "       [-0.0847633 ,  0.06747415,  0.45609148,  0.07128928,  0.16002319],\n",
       "       [ 0.05072704,  0.877624  , -0.15136133,  0.01743239, -0.06542078],\n",
       "       [ 0.070927  ,  0.9537918 , -0.06724721,  0.01053401, -0.06263895],\n",
       "       [-0.02528753,  0.12501788,  0.81975103, -0.02824069, -0.25640282],\n",
       "       [ 0.188233  ,  0.19702023,  0.57324924, -0.11675971, -0.11471019],\n",
       "       [-0.074175  , -0.07241474, -0.28986175,  0.12937017,  0.17513049],\n",
       "       [-0.15955216, -0.0709515 , -0.16606587,  0.12135272,  0.14313605],\n",
       "       [-0.34105553, -0.0459012 ,  0.12440658,  0.02738256,  0.14547056],\n",
       "       [ 0.27872245, -0.02754373,  0.02979436,  0.10300014, -0.5891985 ],\n",
       "       [ 0.08018722,  0.10507438, -0.34249487, -0.03873115, -0.47525228],\n",
       "       [ 0.34378005, -0.02269005, -0.43134167,  0.04435643,  0.25941737],\n",
       "       [ 0.25118618, -0.02451107,  0.85890681,  0.1091488 ,  0.32614847]])"
      ]
     },
     "execution_count": 91,
     "metadata": {},
     "output_type": "execute_result"
    }
   ],
   "source": [
    "fa=FactorAnalyzer(n_factors=5)\n",
    "fa.fit_transform(df_train.select_dtypes(exclude= ('object','category')))\n",
    "fa.loadings_"
   ]
  },
  {
   "cell_type": "code",
   "execution_count": 92,
   "id": "879e20c4",
   "metadata": {},
   "outputs": [],
   "source": [
    "# 10. Build a linear Regression model to predict the total monthly expenditure for home mortgages loan; please refer - ‘deplotment_RE.xlsx’. Column hc_mortgage_mean is predicted variable. This is mean monthly mortgage and owner costs of specified geographical location.\n"
   ]
  },
  {
   "cell_type": "code",
   "execution_count": 93,
   "id": "a966231e",
   "metadata": {},
   "outputs": [
    {
     "data": {
      "text/plain": [
       "array([1, 2, 3, 4, 5, 6], dtype=int64)"
      ]
     },
     "execution_count": 93,
     "metadata": {},
     "output_type": "execute_result"
    }
   ],
   "source": [
    "df_train['type'].unique()"
   ]
  },
  {
   "cell_type": "code",
   "execution_count": 94,
   "id": "88365f3e",
   "metadata": {},
   "outputs": [],
   "source": [
    "# Label encoding"
   ]
  },
  {
   "cell_type": "code",
   "execution_count": 95,
   "id": "b69c56e4",
   "metadata": {},
   "outputs": [],
   "source": [
    "type_dict={'type':{'City':1, 'Urban':2, 'Town':3, 'CDP':4, 'Village':5, 'Borough':6}}\n",
    "df_train.replace(type_dict,inplace=True)"
   ]
  },
  {
   "cell_type": "code",
   "execution_count": 96,
   "id": "8776f9a1",
   "metadata": {},
   "outputs": [],
   "source": [
    "type_dict={'type':{'City':1, 'Urban':2, 'Town':3, 'CDP':4, 'Village':5, 'Borough':6}}\n",
    "df_test.replace(type_dict,inplace=True)"
   ]
  },
  {
   "cell_type": "code",
   "execution_count": 97,
   "id": "821ce84d",
   "metadata": {},
   "outputs": [
    {
     "data": {
      "text/plain": [
       "array([1, 2, 3, 4, 5, 6], dtype=int64)"
      ]
     },
     "execution_count": 97,
     "metadata": {},
     "output_type": "execute_result"
    }
   ],
   "source": [
    "df_train['type'].unique()"
   ]
  },
  {
   "cell_type": "code",
   "execution_count": 98,
   "id": "de2e2323",
   "metadata": {},
   "outputs": [
    {
     "data": {
      "text/plain": [
       "array([4, 1, 6, 3, 5, 2], dtype=int64)"
      ]
     },
     "execution_count": 98,
     "metadata": {},
     "output_type": "execute_result"
    }
   ],
   "source": [
    "df_test['type'].unique()"
   ]
  },
  {
   "cell_type": "code",
   "execution_count": 99,
   "id": "0817a275",
   "metadata": {},
   "outputs": [
    {
     "data": {
      "text/plain": [
       "Index(['COUNTYID', 'STATEID', 'state', 'state_ab', 'city', 'place', 'type',\n",
       "       'primary', 'zip_code', 'area_code', 'lat', 'lng', 'ALand', 'AWater',\n",
       "       'pop', 'male_pop', 'female_pop', 'rent_mean', 'rent_median',\n",
       "       'rent_stdev', 'rent_sample_weight', 'rent_samples', 'rent_gt_10',\n",
       "       'rent_gt_15', 'rent_gt_20', 'rent_gt_25', 'rent_gt_30', 'rent_gt_35',\n",
       "       'rent_gt_40', 'rent_gt_50', 'universe_samples', 'used_samples',\n",
       "       'hi_mean', 'hi_median', 'hi_stdev', 'hi_sample_weight', 'hi_samples',\n",
       "       'family_mean', 'family_median', 'family_stdev', 'family_sample_weight',\n",
       "       'family_samples', 'hc_mortgage_mean', 'hc_mortgage_median',\n",
       "       'hc_mortgage_stdev', 'hc_mortgage_sample_weight', 'hc_mortgage_samples',\n",
       "       'hc_mean', 'hc_median', 'hc_stdev', 'hc_samples', 'hc_sample_weight',\n",
       "       'home_equity_second_mortgage', 'second_mortgage', 'home_equity', 'debt',\n",
       "       'second_mortgage_cdf', 'home_equity_cdf', 'debt_cdf', 'hs_degree',\n",
       "       'hs_degree_male', 'hs_degree_female', 'male_age_mean',\n",
       "       'male_age_median', 'male_age_stdev', 'male_age_sample_weight',\n",
       "       'male_age_samples', 'female_age_mean', 'female_age_median',\n",
       "       'female_age_stdev', 'female_age_sample_weight', 'female_age_samples',\n",
       "       'pct_own', 'married', 'married_snp', 'separated', 'divorced',\n",
       "       'bad_debt', 'good_debt', 'pop_density', 'median_age', 'pop_bin'],\n",
       "      dtype='object')"
      ]
     },
     "execution_count": 99,
     "metadata": {},
     "output_type": "execute_result"
    }
   ],
   "source": [
    "df_train.columns"
   ]
  },
  {
   "cell_type": "code",
   "execution_count": 100,
   "id": "618d736a",
   "metadata": {},
   "outputs": [],
   "source": [
    "feature_cols=['COUNTYID','STATEID','zip_code','type','pop', 'family_mean',\n",
    "         'second_mortgage', 'home_equity', 'debt','hs_degree',\n",
    "           'median_age','pct_own', 'married','separated', 'divorced']"
   ]
  },
  {
   "cell_type": "code",
   "execution_count": 101,
   "id": "6ff2bd14",
   "metadata": {},
   "outputs": [],
   "source": [
    "x_train=df_train[feature_cols]\n",
    "y_train=df_train['hc_mortgage_mean']"
   ]
  },
  {
   "cell_type": "code",
   "execution_count": 102,
   "id": "c76550e3",
   "metadata": {},
   "outputs": [],
   "source": [
    "x_test=df_test[feature_cols]\n",
    "y_test=df_test['hc_mortgage_mean']"
   ]
  },
  {
   "cell_type": "code",
   "execution_count": 103,
   "id": "0dd6f71d",
   "metadata": {},
   "outputs": [],
   "source": [
    "from sklearn.preprocessing import StandardScaler\n",
    "from sklearn.linear_model import LinearRegression\n",
    "from sklearn.metrics import r2_score, mean_absolute_error,mean_squared_error,accuracy_score"
   ]
  },
  {
   "cell_type": "code",
   "execution_count": 104,
   "id": "d217664a",
   "metadata": {},
   "outputs": [],
   "source": [
    "# 10.1 Run a model at a Nation level"
   ]
  },
  {
   "cell_type": "code",
   "execution_count": 105,
   "id": "5b89b47d",
   "metadata": {},
   "outputs": [],
   "source": [
    "sc=StandardScaler()\n",
    "x_train_scaled=sc.fit_transform(x_train)\n",
    "x_test_scaled=sc.fit_transform(x_test)"
   ]
  },
  {
   "cell_type": "code",
   "execution_count": 106,
   "id": "a3e84616",
   "metadata": {},
   "outputs": [
    {
     "data": {
      "text/plain": [
       "LinearRegression()"
      ]
     },
     "execution_count": 106,
     "metadata": {},
     "output_type": "execute_result"
    }
   ],
   "source": [
    "linereg=LinearRegression()\n",
    "linereg.fit(x_train_scaled,y_train)"
   ]
  },
  {
   "cell_type": "code",
   "execution_count": 107,
   "id": "8d16d6f7",
   "metadata": {},
   "outputs": [],
   "source": [
    "y_pred=linereg.predict(x_test_scaled)"
   ]
  },
  {
   "cell_type": "code",
   "execution_count": 108,
   "id": "7ffc4d11",
   "metadata": {},
   "outputs": [
    {
     "name": "stdout",
     "output_type": "stream",
     "text": [
      "Overall R2 score of linear regression model 0.7392288946366496\n",
      "Overall RMSE of linear regression model 321.5683543495721\n"
     ]
    }
   ],
   "source": [
    "print(\"Overall R2 score of linear regression model\", r2_score(y_test,y_pred))\n",
    "print(\"Overall RMSE of linear regression model\", np.sqrt(mean_squared_error(y_test,y_pred)))"
   ]
  },
  {
   "cell_type": "markdown",
   "id": "c003859f",
   "metadata": {},
   "source": [
    "### The accuracy levels and R square are not satisfactory"
   ]
  },
  {
   "cell_type": "code",
   "execution_count": 109,
   "id": "508f27ef",
   "metadata": {},
   "outputs": [],
   "source": [
    "# 10.2 Run another model at State level"
   ]
  },
  {
   "cell_type": "code",
   "execution_count": 110,
   "id": "114eb422",
   "metadata": {},
   "outputs": [
    {
     "data": {
      "text/plain": [
       "array([36, 18, 72, 20,  1, 48, 45,  6,  5, 24], dtype=int64)"
      ]
     },
     "execution_count": 110,
     "metadata": {},
     "output_type": "execute_result"
    }
   ],
   "source": [
    "state=df_train['STATEID'].unique()\n",
    "state[0:10]"
   ]
  },
  {
   "cell_type": "code",
   "execution_count": 111,
   "id": "a29578ef",
   "metadata": {},
   "outputs": [],
   "source": [
    "# consider some of the stateid for the modeling"
   ]
  },
  {
   "cell_type": "code",
   "execution_count": 112,
   "id": "e2c70763",
   "metadata": {},
   "outputs": [
    {
     "name": "stdout",
     "output_type": "stream",
     "text": [
      "State ID- 20\n",
      "Overall R2 score of linear regression model for state, 20 :- 0.5940771632535314\n",
      "Overall RMSE of linear regression model for state, 20 :- 312.1040633209575\n",
      "\n",
      "\n",
      "State ID- 1\n",
      "Overall R2 score of linear regression model for state, 1 :- 0.8085356730790425\n",
      "Overall RMSE of linear regression model for state, 1 :- 310.21039433392895\n",
      "\n",
      "\n",
      "State ID- 45\n",
      "Overall R2 score of linear regression model for state, 45 :- 0.7883582307606087\n",
      "Overall RMSE of linear regression model for state, 45 :- 225.9024766565906\n",
      "\n",
      "\n"
     ]
    }
   ],
   "source": [
    "for i in [20,1,45]:\n",
    "    print(\"State ID-\",i)\n",
    "    \n",
    "    x_train_nation=df_train[df_train['COUNTYID']==i][feature_cols]\n",
    "    y_train_nation=df_train[df_train['COUNTYID']==i]['hc_mortgage_mean']\n",
    "    \n",
    "    x_test_nation=df_test[df_test['COUNTYID']==i][feature_cols]\n",
    "    y_test_nation=df_test[df_test['COUNTYID']==i]['hc_mortgage_mean']\n",
    "    \n",
    "    x_train_scaled_nation=sc.fit_transform(x_train_nation)\n",
    "    x_test_scaled_nation=sc.fit_transform(x_test_nation)\n",
    "    \n",
    "    linereg.fit(x_train_scaled_nation,y_train_nation)\n",
    "    y_pred_nation=linereg.predict(x_test_scaled_nation)\n",
    "    \n",
    "    print(\"Overall R2 score of linear regression model for state,\",i,\":-\" ,r2_score(y_test_nation,y_pred_nation))\n",
    "    print(\"Overall RMSE of linear regression model for state,\",i,\":-\" ,np.sqrt(mean_squared_error(y_test_nation,y_pred_nation)))\n",
    "    print(\"\\n\")"
   ]
  },
  {
   "cell_type": "code",
   "execution_count": 113,
   "id": "335f9169",
   "metadata": {},
   "outputs": [
    {
     "name": "stderr",
     "output_type": "stream",
     "text": [
      "C:\\Users\\Sanjana\\anaconda3\\lib\\site-packages\\seaborn\\distributions.py:2619: FutureWarning: `distplot` is a deprecated function and will be removed in a future version. Please adapt your code to use either `displot` (a figure-level function with similar flexibility) or `histplot` (an axes-level function for histograms).\n",
      "  warnings.warn(msg, FutureWarning)\n"
     ]
    },
    {
     "data": {
      "image/png": "[encoded data removed]",
      "text/plain": [
       "<Figure size 432x288 with 1 Axes>"
      ]
     },
     "metadata": {
      "needs_background": "light"
     },
     "output_type": "display_data"
    }
   ],
   "source": [
    "# 10.3 Test if predicted variable is normally distributed\n",
    "sns.distplot(y_pred)\n",
    "plt.show()"
   ]
  },
  {
   "cell_type": "code",
   "execution_count": 114,
   "id": "21093347",
   "metadata": {},
   "outputs": [],
   "source": [
    " df_train.to_csv('train.csv')"
   ]
  },
  {
   "cell_type": "code",
   "execution_count": 115,
   "id": "78cc9983",
   "metadata": {},
   "outputs": [],
   "source": [
    "# 11. Create a dashboard in tableau by choosing appropriate chart types and metrics useful for the business. "
   ]
  },
  {
   "cell_type": "markdown",
   "id": "fee064a2",
   "metadata": {},
   "source": [
    "https://public.tableau.com/app/profile/sanjana.patil4147/viz/RealEstate_16761028873490/RealEstateDashboard?publish=yesffut"
   ]
  },
  {
   "cell_type": "code",
   "execution_count": null,
   "id": "a1414f34",
   "metadata": {},
   "outputs": [],
   "source": []
  }
 ],
 "metadata": {
  "kernelspec": {
   "display_name": "Python 3 (ipykernel)",
   "language": "python",
   "name": "python3"
  },
  "language_info": {
   "codemirror_mode": {
    "name": "ipython",
    "version": 3
   },
   "file_extension": ".py",
   "mimetype": "text/x-python",
   "name": "python",
   "nbconvert_exporter": "python",
   "pygments_lexer": "ipython3",
   "version": "3.9.12"
  }
 },
 "nbformat": 4,
 "nbformat_minor": 5
}
